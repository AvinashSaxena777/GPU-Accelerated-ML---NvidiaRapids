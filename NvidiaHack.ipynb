{
  "nbformat": 4,
  "nbformat_minor": 0,
  "metadata": {
    "colab": {
      "provenance": [],
      "gpuType": "T4",
      "collapsed_sections": [
        "ssMHxEfucXSz"
      ]
    },
    "kernelspec": {
      "name": "python3",
      "display_name": "Python 3"
    },
    "language_info": {
      "name": "python"
    },
    "accelerator": "GPU"
  },
  "cells": [
    {
      "cell_type": "markdown",
      "source": [
        "#DataDownload"
      ],
      "metadata": {
        "id": "DOUOlXk8U1zQ"
      }
    },
    {
      "cell_type": "code",
      "execution_count": null,
      "metadata": {
        "colab": {
          "base_uri": "https://localhost:8080/"
        },
        "id": "cgPGh0_oOTYX",
        "outputId": "de6bd45a-c546-43c3-a94a-b8cd31881a62"
      },
      "outputs": [
        {
          "output_type": "stream",
          "name": "stdout",
          "text": [
            "Mounted at /content/drive\n"
          ]
        }
      ],
      "source": [
        "# from google.colab import drive\n",
        "# drive.mount('/content/drive')"
      ]
    },
    {
      "cell_type": "code",
      "source": [
        "!mkdir ~/.kaggle\n",
        "#!cp /content/drive/MyDrive/kagglesjsu.json ~/.kaggle/\n",
        "!mv kaggle.json ~/.kaggle/kaggle.json\n",
        "!chmod 600 ~/.kaggle/kaggle.json\n",
        "!kaggle competitions download -c odsc-2024-nvidia-hackathon"
      ],
      "metadata": {
        "colab": {
          "base_uri": "https://localhost:8080/"
        },
        "id": "6ELVu2E3OiEO",
        "outputId": "b13e7af5-3e79-4f4f-d560-af56cc662ad7"
      },
      "execution_count": null,
      "outputs": [
        {
          "output_type": "stream",
          "name": "stdout",
          "text": [
            "Downloading odsc-2024-nvidia-hackathon.zip to /content\n",
            "100% 3.71G/3.72G [00:39<00:00, 192MB/s]\n",
            "100% 3.72G/3.72G [00:39<00:00, 101MB/s]\n"
          ]
        }
      ]
    },
    {
      "cell_type": "code",
      "source": [
        "!unzip -q odsc-2024-nvidia-hackathon.zip"
      ],
      "metadata": {
        "id": "abRnfD6vPVit"
      },
      "execution_count": null,
      "outputs": []
    },
    {
      "cell_type": "code",
      "source": [
        "!nvidia-smi"
      ],
      "metadata": {
        "colab": {
          "base_uri": "https://localhost:8080/"
        },
        "id": "fN_6l2gbRnTZ",
        "outputId": "c94b55fa-d32c-43e0-8eae-2ea02fe88ff3"
      },
      "execution_count": null,
      "outputs": [
        {
          "output_type": "stream",
          "name": "stdout",
          "text": [
            "Sun Nov  3 00:19:23 2024       \n",
            "+---------------------------------------------------------------------------------------+\n",
            "| NVIDIA-SMI 535.104.05             Driver Version: 535.104.05   CUDA Version: 12.2     |\n",
            "|-----------------------------------------+----------------------+----------------------+\n",
            "| GPU  Name                 Persistence-M | Bus-Id        Disp.A | Volatile Uncorr. ECC |\n",
            "| Fan  Temp   Perf          Pwr:Usage/Cap |         Memory-Usage | GPU-Util  Compute M. |\n",
            "|                                         |                      |               MIG M. |\n",
            "|=========================================+======================+======================|\n",
            "|   0  Tesla T4                       Off | 00000000:00:04.0 Off |                    0 |\n",
            "| N/A   40C    P8              11W /  70W |      0MiB / 15360MiB |      0%      Default |\n",
            "|                                         |                      |                  N/A |\n",
            "+-----------------------------------------+----------------------+----------------------+\n",
            "                                                                                         \n",
            "+---------------------------------------------------------------------------------------+\n",
            "| Processes:                                                                            |\n",
            "|  GPU   GI   CI        PID   Type   Process name                            GPU Memory |\n",
            "|        ID   ID                                                             Usage      |\n",
            "|=======================================================================================|\n",
            "|  No running processes found                                                           |\n",
            "+---------------------------------------------------------------------------------------+\n"
          ]
        }
      ]
    },
    {
      "cell_type": "code",
      "source": [
        "import locale\n",
        "locale.getpreferredencoding = lambda: \"UTF-8\""
      ],
      "metadata": {
        "id": "K-zCE39jdtyy"
      },
      "execution_count": null,
      "outputs": []
    },
    {
      "cell_type": "code",
      "source": [
        "!pip install cudf-cu12 cuml-cu12 --extra-index-url=https://pypi.ngc.nvidia.com"
      ],
      "metadata": {
        "colab": {
          "base_uri": "https://localhost:8080/"
        },
        "id": "0kYe5CI1X2s5",
        "outputId": "620961d0-3e27-4a4d-a767-ef6d99f0e61f"
      },
      "execution_count": null,
      "outputs": [
        {
          "output_type": "stream",
          "name": "stdout",
          "text": [
            "Looking in indexes: https://pypi.org/simple, https://pypi.ngc.nvidia.com\n",
            "Requirement already satisfied: cudf-cu12 in /usr/local/lib/python3.10/dist-packages (24.10.1)\n",
            "Collecting cuml-cu12\n",
            "  Downloading cuml_cu12-24.10.0.tar.gz (2.4 kB)\n",
            "  Installing build dependencies ... \u001b[?25l\u001b[?25hdone\n",
            "  Getting requirements to build wheel ... \u001b[?25l\u001b[?25hdone\n",
            "  Preparing metadata (pyproject.toml) ... \u001b[?25l\u001b[?25hdone\n",
            "Requirement already satisfied: cachetools in /usr/local/lib/python3.10/dist-packages (from cudf-cu12) (5.5.0)\n",
            "Requirement already satisfied: cuda-python<13.0a0,>=12.0 in /usr/local/lib/python3.10/dist-packages (from cudf-cu12) (12.2.1)\n",
            "Requirement already satisfied: cupy-cuda12x>=12.0.0 in /usr/local/lib/python3.10/dist-packages (from cudf-cu12) (12.2.0)\n",
            "Requirement already satisfied: fsspec>=0.6.0 in /usr/local/lib/python3.10/dist-packages (from cudf-cu12) (2024.10.0)\n",
            "Requirement already satisfied: libcudf-cu12==24.10.* in /usr/local/lib/python3.10/dist-packages (from cudf-cu12) (24.10.1)\n",
            "Requirement already satisfied: numba>=0.57 in /usr/local/lib/python3.10/dist-packages (from cudf-cu12) (0.60.0)\n",
            "Requirement already satisfied: numpy<3.0a0,>=1.23 in /usr/local/lib/python3.10/dist-packages (from cudf-cu12) (1.26.4)\n",
            "Requirement already satisfied: nvtx>=0.2.1 in /usr/local/lib/python3.10/dist-packages (from cudf-cu12) (0.2.10)\n",
            "Requirement already satisfied: packaging in /usr/local/lib/python3.10/dist-packages (from cudf-cu12) (24.1)\n",
            "Requirement already satisfied: pandas<2.2.3dev0,>=2.0 in /usr/local/lib/python3.10/dist-packages (from cudf-cu12) (2.2.2)\n",
            "Requirement already satisfied: pyarrow<18.0.0a0,>=14.0.0 in /usr/local/lib/python3.10/dist-packages (from cudf-cu12) (17.0.0)\n",
            "Requirement already satisfied: pylibcudf-cu12==24.10.* in /usr/local/lib/python3.10/dist-packages (from cudf-cu12) (24.10.1)\n",
            "Requirement already satisfied: pynvjitlink-cu12 in /usr/local/lib/python3.10/dist-packages (from cudf-cu12) (0.4.0)\n",
            "Requirement already satisfied: rich in /usr/local/lib/python3.10/dist-packages (from cudf-cu12) (13.9.3)\n",
            "Requirement already satisfied: rmm-cu12==24.10.* in /usr/local/lib/python3.10/dist-packages (from cudf-cu12) (24.10.0)\n",
            "Requirement already satisfied: typing_extensions>=4.0.0 in /usr/local/lib/python3.10/dist-packages (from cudf-cu12) (4.12.2)\n",
            "Collecting cuvs-cu12==24.10.* (from cuml-cu12)\n",
            "  Downloading cuvs_cu12-24.10.0.tar.gz (753 bytes)\n",
            "  Installing build dependencies ... \u001b[?25l\u001b[?25hdone\n",
            "  Getting requirements to build wheel ... \u001b[?25l\u001b[?25hdone\n",
            "  Preparing metadata (pyproject.toml) ... \u001b[?25l\u001b[?25hdone\n",
            "Collecting dask-cuda==24.10.* (from cuml-cu12)\n",
            "  Downloading dask_cuda-24.10.0-py3-none-any.whl.metadata (2.6 kB)\n",
            "Collecting dask-cudf-cu12==24.10.* (from cuml-cu12)\n",
            "  Downloading dask_cudf_cu12-24.10.1.tar.gz (2.3 kB)\n",
            "  Installing build dependencies ... \u001b[?25l\u001b[?25hdone\n",
            "  Getting requirements to build wheel ... \u001b[?25l\u001b[?25hdone\n",
            "  Preparing metadata (pyproject.toml) ... \u001b[?25l\u001b[?25hdone\n",
            "Requirement already satisfied: joblib>=0.11 in /usr/local/lib/python3.10/dist-packages (from cuml-cu12) (1.4.2)\n",
            "Requirement already satisfied: nvidia-cublas-cu12 in /usr/local/lib/python3.10/dist-packages (from cuml-cu12) (12.6.3.3)\n",
            "Requirement already satisfied: nvidia-cufft-cu12 in /usr/local/lib/python3.10/dist-packages (from cuml-cu12) (11.3.0.4)\n",
            "Requirement already satisfied: nvidia-curand-cu12 in /usr/local/lib/python3.10/dist-packages (from cuml-cu12) (10.3.7.77)\n",
            "Requirement already satisfied: nvidia-cusolver-cu12 in /usr/local/lib/python3.10/dist-packages (from cuml-cu12) (11.7.1.2)\n",
            "Requirement already satisfied: nvidia-cusparse-cu12 in /usr/local/lib/python3.10/dist-packages (from cuml-cu12) (12.5.4.2)\n",
            "Requirement already satisfied: pylibraft-cu12==24.10.* in /usr/local/lib/python3.10/dist-packages (from cuml-cu12) (24.10.0)\n",
            "Collecting raft-dask-cu12==24.10.* (from cuml-cu12)\n",
            "  Downloading raft_dask_cu12-24.10.0.tar.gz (5.8 kB)\n",
            "  Installing build dependencies ... \u001b[?25l\u001b[?25hdone\n",
            "  Getting requirements to build wheel ... \u001b[?25l\u001b[?25hdone\n",
            "  Preparing metadata (pyproject.toml) ... \u001b[?25l\u001b[?25hdone\n",
            "Collecting rapids-dask-dependency==24.10.* (from cuml-cu12)\n",
            "  Downloading rapids_dask_dependency-24.10.0-py3-none-any.whl.metadata (3.7 kB)\n",
            "Requirement already satisfied: scipy>=1.8.0 in /usr/local/lib/python3.10/dist-packages (from cuml-cu12) (1.13.1)\n",
            "Collecting treelite==4.3.0 (from cuml-cu12)\n",
            "  Downloading treelite-4.3.0-py3-none-manylinux2014_x86_64.whl.metadata (1.5 kB)\n",
            "Requirement already satisfied: click>=8.1 in /usr/local/lib/python3.10/dist-packages (from dask-cuda==24.10.*->cuml-cu12) (8.1.7)\n",
            "Collecting pynvml<11.5,>=11.0.0 (from dask-cuda==24.10.*->cuml-cu12)\n",
            "  Downloading pynvml-11.4.1-py3-none-any.whl.metadata (7.7 kB)\n",
            "Collecting zict>=2.0.0 (from dask-cuda==24.10.*->cuml-cu12)\n",
            "  Downloading zict-3.0.0-py2.py3-none-any.whl.metadata (899 bytes)\n",
            "Collecting distributed-ucxx-cu12==0.40.* (from raft-dask-cu12==24.10.*->cuml-cu12)\n",
            "  Downloading distributed_ucxx_cu12-0.40.0.tar.gz (911 bytes)\n",
            "  Installing build dependencies ... \u001b[?25l\u001b[?25hdone\n",
            "  Getting requirements to build wheel ... \u001b[?25l\u001b[?25hdone\n",
            "  Preparing metadata (pyproject.toml) ... \u001b[?25l\u001b[?25hdone\n",
            "Collecting ucx-py-cu12==0.40.* (from raft-dask-cu12==24.10.*->cuml-cu12)\n",
            "  Downloading ucx_py_cu12-0.40.0.tar.gz (1.3 kB)\n",
            "  Installing build dependencies ... \u001b[?25l\u001b[?25hdone\n",
            "  Getting requirements to build wheel ... \u001b[?25l\u001b[?25hdone\n",
            "  Preparing metadata (pyproject.toml) ... \u001b[?25l\u001b[?25hdone\n",
            "Collecting dask==2024.9.0 (from rapids-dask-dependency==24.10.*->cuml-cu12)\n",
            "  Downloading dask-2024.9.0-py3-none-any.whl.metadata (3.7 kB)\n",
            "Collecting distributed==2024.9.0 (from rapids-dask-dependency==24.10.*->cuml-cu12)\n",
            "  Downloading distributed-2024.9.0-py3-none-any.whl.metadata (3.3 kB)\n",
            "Collecting dask-expr==1.1.14 (from rapids-dask-dependency==24.10.*->cuml-cu12)\n",
            "  Downloading dask_expr-1.1.14-py3-none-any.whl.metadata (2.5 kB)\n",
            "Requirement already satisfied: cloudpickle>=3.0.0 in /usr/local/lib/python3.10/dist-packages (from dask==2024.9.0->rapids-dask-dependency==24.10.*->cuml-cu12) (3.1.0)\n",
            "Requirement already satisfied: partd>=1.4.0 in /usr/local/lib/python3.10/dist-packages (from dask==2024.9.0->rapids-dask-dependency==24.10.*->cuml-cu12) (1.4.2)\n",
            "Requirement already satisfied: pyyaml>=5.3.1 in /usr/local/lib/python3.10/dist-packages (from dask==2024.9.0->rapids-dask-dependency==24.10.*->cuml-cu12) (6.0.2)\n",
            "Requirement already satisfied: toolz>=0.10.0 in /usr/local/lib/python3.10/dist-packages (from dask==2024.9.0->rapids-dask-dependency==24.10.*->cuml-cu12) (0.12.1)\n",
            "Requirement already satisfied: importlib-metadata>=4.13.0 in /usr/local/lib/python3.10/dist-packages (from dask==2024.9.0->rapids-dask-dependency==24.10.*->cuml-cu12) (8.5.0)\n",
            "Requirement already satisfied: jinja2>=2.10.3 in /usr/local/lib/python3.10/dist-packages (from distributed==2024.9.0->rapids-dask-dependency==24.10.*->cuml-cu12) (3.1.4)\n",
            "Requirement already satisfied: locket>=1.0.0 in /usr/local/lib/python3.10/dist-packages (from distributed==2024.9.0->rapids-dask-dependency==24.10.*->cuml-cu12) (1.0.0)\n",
            "Requirement already satisfied: msgpack>=1.0.2 in /usr/local/lib/python3.10/dist-packages (from distributed==2024.9.0->rapids-dask-dependency==24.10.*->cuml-cu12) (1.1.0)\n",
            "Requirement already satisfied: psutil>=5.8.0 in /usr/local/lib/python3.10/dist-packages (from distributed==2024.9.0->rapids-dask-dependency==24.10.*->cuml-cu12) (5.9.5)\n",
            "Collecting sortedcontainers>=2.0.5 (from distributed==2024.9.0->rapids-dask-dependency==24.10.*->cuml-cu12)\n",
            "  Downloading sortedcontainers-2.4.0-py2.py3-none-any.whl.metadata (10 kB)\n",
            "Collecting tblib>=1.6.0 (from distributed==2024.9.0->rapids-dask-dependency==24.10.*->cuml-cu12)\n",
            "  Downloading tblib-3.0.0-py3-none-any.whl.metadata (25 kB)\n",
            "Requirement already satisfied: tornado>=6.2.0 in /usr/local/lib/python3.10/dist-packages (from distributed==2024.9.0->rapids-dask-dependency==24.10.*->cuml-cu12) (6.3.3)\n",
            "Requirement already satisfied: urllib3>=1.26.5 in /usr/local/lib/python3.10/dist-packages (from distributed==2024.9.0->rapids-dask-dependency==24.10.*->cuml-cu12) (2.2.3)\n",
            "Collecting ucxx-cu12==0.40.* (from distributed-ucxx-cu12==0.40.*->raft-dask-cu12==24.10.*->cuml-cu12)\n",
            "  Downloading ucxx_cu12-0.40.0.tar.gz (3.1 kB)\n",
            "  Installing build dependencies ... \u001b[?25l\u001b[?25hdone\n",
            "  Getting requirements to build wheel ... \u001b[?25l\u001b[?25hdone\n",
            "  Preparing metadata (pyproject.toml) ... \u001b[?25l\u001b[?25hdone\n",
            "Collecting libucx-cu12<1.18,>=1.15.0 (from ucx-py-cu12==0.40.*->raft-dask-cu12==24.10.*->cuml-cu12)\n",
            "  Downloading libucx_cu12-1.17.0-py3-none-manylinux_2_28_x86_64.whl.metadata (2.9 kB)\n",
            "Collecting libucxx-cu12==0.40.* (from ucxx-cu12==0.40.*->distributed-ucxx-cu12==0.40.*->raft-dask-cu12==24.10.*->cuml-cu12)\n",
            "  Downloading libucxx_cu12-0.40.0.tar.gz (2.9 kB)\n",
            "  Installing build dependencies ... \u001b[?25l\u001b[?25hdone\n",
            "  Getting requirements to build wheel ... \u001b[?25l\u001b[?25hdone\n",
            "  Preparing metadata (pyproject.toml) ... \u001b[?25l\u001b[?25hdone\n",
            "Requirement already satisfied: cython in /usr/local/lib/python3.10/dist-packages (from cuda-python<13.0a0,>=12.0->cudf-cu12) (3.0.11)\n",
            "Requirement already satisfied: fastrlock>=0.5 in /usr/local/lib/python3.10/dist-packages (from cupy-cuda12x>=12.0.0->cudf-cu12) (0.8.2)\n",
            "Requirement already satisfied: llvmlite<0.44,>=0.43.0dev0 in /usr/local/lib/python3.10/dist-packages (from numba>=0.57->cudf-cu12) (0.43.0)\n",
            "Requirement already satisfied: python-dateutil>=2.8.2 in /usr/local/lib/python3.10/dist-packages (from pandas<2.2.3dev0,>=2.0->cudf-cu12) (2.8.2)\n",
            "Requirement already satisfied: pytz>=2020.1 in /usr/local/lib/python3.10/dist-packages (from pandas<2.2.3dev0,>=2.0->cudf-cu12) (2024.2)\n",
            "Requirement already satisfied: tzdata>=2022.7 in /usr/local/lib/python3.10/dist-packages (from pandas<2.2.3dev0,>=2.0->cudf-cu12) (2024.2)\n",
            "Requirement already satisfied: nvidia-nvjitlink-cu12 in /usr/local/lib/python3.10/dist-packages (from nvidia-cufft-cu12->cuml-cu12) (12.6.77)\n",
            "Requirement already satisfied: markdown-it-py>=2.2.0 in /usr/local/lib/python3.10/dist-packages (from rich->cudf-cu12) (3.0.0)\n",
            "Requirement already satisfied: pygments<3.0.0,>=2.13.0 in /usr/local/lib/python3.10/dist-packages (from rich->cudf-cu12) (2.18.0)\n",
            "Requirement already satisfied: mdurl~=0.1 in /usr/local/lib/python3.10/dist-packages (from markdown-it-py>=2.2.0->rich->cudf-cu12) (0.1.2)\n",
            "Requirement already satisfied: six>=1.5 in /usr/local/lib/python3.10/dist-packages (from python-dateutil>=2.8.2->pandas<2.2.3dev0,>=2.0->cudf-cu12) (1.16.0)\n",
            "Requirement already satisfied: zipp>=3.20 in /usr/local/lib/python3.10/dist-packages (from importlib-metadata>=4.13.0->dask==2024.9.0->rapids-dask-dependency==24.10.*->cuml-cu12) (3.20.2)\n",
            "Requirement already satisfied: MarkupSafe>=2.0 in /usr/local/lib/python3.10/dist-packages (from jinja2>=2.10.3->distributed==2024.9.0->rapids-dask-dependency==24.10.*->cuml-cu12) (3.0.2)\n",
            "Downloading dask_cuda-24.10.0-py3-none-any.whl (133 kB)\n",
            "\u001b[2K   \u001b[90m━━━━━━━━━━━━━━━━━━━━━━━━━━━━━━━━━━━━━━━━\u001b[0m \u001b[32m133.2/133.2 kB\u001b[0m \u001b[31m13.5 MB/s\u001b[0m eta \u001b[36m0:00:00\u001b[0m\n",
            "\u001b[?25hDownloading rapids_dask_dependency-24.10.0-py3-none-any.whl (15 kB)\n",
            "Downloading treelite-4.3.0-py3-none-manylinux2014_x86_64.whl (915 kB)\n",
            "\u001b[2K   \u001b[90m━━━━━━━━━━━━━━━━━━━━━━━━━━━━━━━━━━━━━━━━\u001b[0m \u001b[32m916.0/916.0 kB\u001b[0m \u001b[31m45.5 MB/s\u001b[0m eta \u001b[36m0:00:00\u001b[0m\n",
            "\u001b[?25hDownloading dask-2024.9.0-py3-none-any.whl (1.3 MB)\n",
            "\u001b[2K   \u001b[90m━━━━━━━━━━━━━━━━━━━━━━━━━━━━━━━━━━━━━━━━\u001b[0m \u001b[32m1.3/1.3 MB\u001b[0m \u001b[31m68.6 MB/s\u001b[0m eta \u001b[36m0:00:00\u001b[0m\n",
            "\u001b[?25hDownloading dask_expr-1.1.14-py3-none-any.whl (242 kB)\n",
            "\u001b[2K   \u001b[90m━━━━━━━━━━━━━━━━━━━━━━━━━━━━━━━━━━━━━━━━\u001b[0m \u001b[32m242.6/242.6 kB\u001b[0m \u001b[31m24.9 MB/s\u001b[0m eta \u001b[36m0:00:00\u001b[0m\n",
            "\u001b[?25hDownloading distributed-2024.9.0-py3-none-any.whl (1.0 MB)\n",
            "\u001b[2K   \u001b[90m━━━━━━━━━━━━━━━━━━━━━━━━━━━━━━━━━━━━━━━━\u001b[0m \u001b[32m1.0/1.0 MB\u001b[0m \u001b[31m62.4 MB/s\u001b[0m eta \u001b[36m0:00:00\u001b[0m\n",
            "\u001b[?25hDownloading pynvml-11.4.1-py3-none-any.whl (46 kB)\n",
            "\u001b[2K   \u001b[90m━━━━━━━━━━━━━━━━━━━━━━━━━━━━━━━━━━━━━━━━\u001b[0m \u001b[32m47.0/47.0 kB\u001b[0m \u001b[31m4.8 MB/s\u001b[0m eta \u001b[36m0:00:00\u001b[0m\n",
            "\u001b[?25hDownloading zict-3.0.0-py2.py3-none-any.whl (43 kB)\n",
            "\u001b[2K   \u001b[90m━━━━━━━━━━━━━━━━━━━━━━━━━━━━━━━━━━━━━━━━\u001b[0m \u001b[32m43.3/43.3 kB\u001b[0m \u001b[31m4.0 MB/s\u001b[0m eta \u001b[36m0:00:00\u001b[0m\n",
            "\u001b[?25hDownloading libucx_cu12-1.17.0-py3-none-manylinux_2_28_x86_64.whl (26.9 MB)\n",
            "\u001b[2K   \u001b[90m━━━━━━━━━━━━━━━━━━━━━━━━━━━━━━━━━━━━━━━━\u001b[0m \u001b[32m26.9/26.9 MB\u001b[0m \u001b[31m45.0 MB/s\u001b[0m eta \u001b[36m0:00:00\u001b[0m\n",
            "\u001b[?25hDownloading sortedcontainers-2.4.0-py2.py3-none-any.whl (29 kB)\n",
            "Downloading tblib-3.0.0-py3-none-any.whl (12 kB)\n",
            "Building wheels for collected packages: cuml-cu12, cuvs-cu12, dask-cudf-cu12, raft-dask-cu12, distributed-ucxx-cu12, ucx-py-cu12, ucxx-cu12, libucxx-cu12\n",
            "  Building wheel for cuml-cu12 (pyproject.toml) ... \u001b[?25l\u001b[?25hdone\n",
            "  Created wheel for cuml-cu12: filename=cuml_cu12-24.10.0-cp310-cp310-manylinux_2_28_x86_64.whl size=567746029 sha256=0481db8e341da62c1d6baf9a00cd3958f89895006a772c3968d129ef71c2344b\n",
            "  Stored in directory: /root/.cache/pip/wheels/d6/7e/52/9c730a197fe7a847b42e377b1651053e929cd986dcefaeb6fb\n",
            "  Building wheel for cuvs-cu12 (pyproject.toml) ... \u001b[?25l\u001b[?25hdone\n",
            "  Created wheel for cuvs-cu12: filename=cuvs_cu12-24.10.0-cp310-cp310-manylinux_2_28_x86_64.whl size=836594176 sha256=4b619f678c884daa18e584283596f82ebc0541a61e7e01103d464b2e8512e57f\n",
            "  Stored in directory: /root/.cache/pip/wheels/bd/f8/a7/2d25d05c51730db256a90c07c08f5cfebb9064d2886f3f09d7\n",
            "  Building wheel for dask-cudf-cu12 (pyproject.toml) ... \u001b[?25l\u001b[?25hdone\n",
            "  Created wheel for dask-cudf-cu12: filename=dask_cudf_cu12-24.10.1-py3-none-any.whl size=56338 sha256=9f04be126ffc5921298c51d2888572ac0e31ac77a9dd67920ecec1a1b40978e8\n",
            "  Stored in directory: /root/.cache/pip/wheels/b7/05/59/0d55b227cfca7b05a1a5390a984abd3c7bfda2c39511a08ae3\n",
            "  Building wheel for raft-dask-cu12 (pyproject.toml) ... \u001b[?25l\u001b[?25hdone\n",
            "  Created wheel for raft-dask-cu12: filename=raft_dask_cu12-24.10.0-cp310-cp310-manylinux_2_28_x86_64.whl size=196888082 sha256=f17b120ad141411ddd9aac69b3a57536d0d6a7cef3e1ef7efa1048731a24a1cf\n",
            "  Stored in directory: /root/.cache/pip/wheels/0d/3d/79/19c14c1951513997eeb7dd0b327f4a70de78181f52b335c128\n",
            "  Building wheel for distributed-ucxx-cu12 (pyproject.toml) ... \u001b[?25l\u001b[?25hdone\n",
            "  Created wheel for distributed-ucxx-cu12: filename=distributed_ucxx_cu12-0.40.0-py3-none-any.whl size=24337 sha256=07d05b85e8449840e157c35b25131f6b7678ff33c5294d2cafbf7fc9968750be\n",
            "  Stored in directory: /root/.cache/pip/wheels/e9/48/a0/835c7fba8da6a71e6abbdd7df779aa0e6c465c7d5c68f391c0\n",
            "  Building wheel for ucx-py-cu12 (pyproject.toml) ... \u001b[?25l\u001b[?25hdone\n",
            "  Created wheel for ucx-py-cu12: filename=ucx_py_cu12-0.40.0-cp310-cp310-manylinux_2_17_x86_64.manylinux2014_x86_64.manylinux_2_28_x86_64.whl size=2119919 sha256=34fbe2fd09240b9e469e8941b4712d0a01db84dcadd9a328e0975c2aa5d6adf4\n",
            "  Stored in directory: /root/.cache/pip/wheels/42/db/d2/67809dff2438581aeb431f384fd901a24adfc37f643399fcb0\n",
            "  Building wheel for ucxx-cu12 (pyproject.toml) ... \u001b[?25l\u001b[?25hdone\n",
            "  Created wheel for ucxx-cu12: filename=ucxx_cu12-0.40.0-cp310-cp310-manylinux_2_27_x86_64.manylinux_2_28_x86_64.whl size=722738 sha256=3531b1c4d6b016481a5509fad6575b34373c57516f9c5ae51c8a43d5f340d96d\n",
            "  Stored in directory: /root/.cache/pip/wheels/eb/b4/98/533b66ca7ad0a3f84364f990a3ae10bb39a8c9b6382a477da3\n",
            "  Building wheel for libucxx-cu12 (pyproject.toml) ... \u001b[?25l\u001b[?25hdone\n",
            "  Created wheel for libucxx-cu12: filename=libucxx_cu12-0.40.0-py3-none-manylinux_2_24_x86_64.manylinux_2_28_x86_64.whl size=511692 sha256=eb00c16bea61814456a92307f36e7b8b6746c4a04b31a3f28d89bbb4025bc120\n",
            "  Stored in directory: /root/.cache/pip/wheels/4a/69/0c/be88e41cece98cb79823d3a13a8d2d3093b6ae3833f70f24dd\n",
            "Successfully built cuml-cu12 cuvs-cu12 dask-cudf-cu12 raft-dask-cu12 distributed-ucxx-cu12 ucx-py-cu12 ucxx-cu12 libucxx-cu12\n",
            "Installing collected packages: sortedcontainers, zict, tblib, pynvml, libucx-cu12, ucx-py-cu12, treelite, libucxx-cu12, dask, ucxx-cu12, distributed, dask-expr, rapids-dask-dependency, cuvs-cu12, distributed-ucxx-cu12, dask-cudf-cu12, dask-cuda, raft-dask-cu12, cuml-cu12\n",
            "  Attempting uninstall: dask\n",
            "    Found existing installation: dask 2024.10.0\n",
            "    Uninstalling dask-2024.10.0:\n",
            "      Successfully uninstalled dask-2024.10.0\n",
            "Successfully installed cuml-cu12-24.10.0 cuvs-cu12-24.10.0 dask-2024.9.0 dask-cuda-24.10.0 dask-cudf-cu12-24.10.1 dask-expr-1.1.14 distributed-2024.9.0 distributed-ucxx-cu12-0.40.0 libucx-cu12-1.17.0 libucxx-cu12-0.40.0 pynvml-11.4.1 raft-dask-cu12-24.10.0 rapids-dask-dependency-24.10.0 sortedcontainers-2.4.0 tblib-3.0.0 treelite-4.3.0 ucx-py-cu12-0.40.0 ucxx-cu12-0.40.0 zict-3.0.0\n"
          ]
        }
      ]
    },
    {
      "cell_type": "code",
      "source": [
        "!pip install xgboost"
      ],
      "metadata": {
        "id": "D-qHzNrocWOM",
        "colab": {
          "base_uri": "https://localhost:8080/"
        },
        "outputId": "cecdd152-f3df-4987-d298-c29d2f8b3405"
      },
      "execution_count": null,
      "outputs": [
        {
          "output_type": "stream",
          "name": "stdout",
          "text": [
            "Requirement already satisfied: xgboost in /usr/local/lib/python3.10/dist-packages (2.1.2)\n",
            "Requirement already satisfied: numpy in /usr/local/lib/python3.10/dist-packages (from xgboost) (1.26.4)\n",
            "Requirement already satisfied: nvidia-nccl-cu12 in /usr/local/lib/python3.10/dist-packages (from xgboost) (2.23.4)\n",
            "Requirement already satisfied: scipy in /usr/local/lib/python3.10/dist-packages (from xgboost) (1.13.1)\n"
          ]
        }
      ]
    },
    {
      "cell_type": "markdown",
      "source": [
        "#Data Load"
      ],
      "metadata": {
        "id": "J0qNkWyMUcXw"
      }
    },
    {
      "cell_type": "code",
      "source": [
        "import cudf\n",
        "import pandas as pd\n",
        "import numpy as np\n",
        "import cupy as cp\n",
        "import cuml\n",
        "from cuml.model_selection import train_test_split\n",
        "from cuml.preprocessing import Normalizer\n",
        "import xgboost as xgb\n",
        "from sklearn.metrics import mean_squared_error\n",
        "from cuml.decomposition import PCA\n",
        "from cuml.metrics.regression import mean_squared_error\n",
        "from cuml import ForestInference"
      ],
      "metadata": {
        "id": "AvLI7FwITiTy"
      },
      "execution_count": null,
      "outputs": []
    },
    {
      "cell_type": "code",
      "source": [
        "df = cudf.read_csv(\"train.csv\", nrows=1000, index_col=\"id\")\n",
        "#df = df.drop(['trickortreat', 'kingofhalloween'], axis=1)\n",
        "# view a random sample of 10 rows:\n",
        "#df.sample(10)"
      ],
      "metadata": {
        "id": "ZLCxfEGbTu2I"
      },
      "execution_count": null,
      "outputs": []
    },
    {
      "cell_type": "code",
      "source": [
        "feature_cols = [col for col in df.columns if col != 'y']\n",
        "target_col = 'y'"
      ],
      "metadata": {
        "id": "XXhImu66cV8h"
      },
      "execution_count": null,
      "outputs": []
    },
    {
      "cell_type": "code",
      "source": [
        "Y = df[target_col]\n",
        "df = df.drop(target_col, axis=1)"
      ],
      "metadata": {
        "id": "Jf0frXlbcV_G"
      },
      "execution_count": null,
      "outputs": []
    },
    {
      "cell_type": "code",
      "source": [
        "df.shape, Y.shape"
      ],
      "metadata": {
        "colab": {
          "base_uri": "https://localhost:8080/"
        },
        "id": "WX5cc1m-wmjx",
        "outputId": "59c024f4-ad8a-4100-bc91-8af8cc6d6a9c"
      },
      "execution_count": null,
      "outputs": [
        {
          "output_type": "execute_result",
          "data": {
            "text/plain": [
              "((1000, 106), (1000,))"
            ]
          },
          "metadata": {},
          "execution_count": 11
        }
      ]
    },
    {
      "cell_type": "markdown",
      "source": [
        "#Data Preprocessing"
      ],
      "metadata": {
        "id": "RpKmiXc8UktK"
      }
    },
    {
      "cell_type": "code",
      "source": [
        "# Apply log transformation to skewed features\n",
        "# for col in df.columns:\n",
        "#     cap = df[col].quantile(0.99)\n",
        "#     df[col] = df[col].clip(upper=cap)\n",
        "# print(\"Outliers capped at the 99th percentile for each feature.\")"
      ],
      "metadata": {
        "id": "PHaB6tK9Tz1I"
      },
      "execution_count": null,
      "outputs": []
    },
    {
      "cell_type": "code",
      "source": [
        "int_columns = df.select_dtypes(include=['int64']).columns\n",
        "float_columns = df.select_dtypes(include=['float64']).columns\n",
        "for col in int_columns:\n",
        "    df[col] = df[col].replace(-1, None)\n",
        "int_means = df[int_columns].mean().astype('int64')\n",
        "float_means = df[float_columns].mean()\n",
        "\n",
        "\n",
        "df[int_columns] = df[int_columns].fillna(int_means)\n",
        "df[float_columns] = df[float_columns].fillna(float_means)\n",
        "# import numpy as np\n",
        "# # Replace -1 with NaN, then calculate means\n",
        "# means = df.replace(-1, None).mean()\n",
        "\n",
        "# # Replace both NaN and -1 values with the calculated means\n",
        "# df = df.replace(-1, None).fillna(means)"
      ],
      "metadata": {
        "id": "MNEyeOgcfxXK"
      },
      "execution_count": null,
      "outputs": []
    },
    {
      "cell_type": "code",
      "source": [
        "for column in df.select_dtypes(include=['float64', 'int64']).columns:\n",
        "        Q1 = df[column].quantile(0.25)\n",
        "        Q3 = df[column].quantile(0.75)\n",
        "        IQR = Q3 - Q1\n",
        "        lower_bound = Q1 - 1.5 * IQR\n",
        "        upper_bound = Q3 + 1.5 * IQR\n",
        "\n",
        "        median = df[column].median()\n",
        "\n",
        "        # Create a boolean mask for outliers\n",
        "        outlier_mask = (df[column] < lower_bound) | (df[column] > upper_bound)\n",
        "\n",
        "        # Replace outliers with median, maintaining the original dtype\n",
        "        if df[column].dtype == 'int64':\n",
        "            df[column] = df[column].astype('float64')\n",
        "            df[column] = df[column].where(~outlier_mask, median)\n",
        "            df[column] = df[column].astype('int64')\n",
        "        else:\n",
        "            df[column] = df[column].where(~outlier_mask, median)"
      ],
      "metadata": {
        "id": "ep-_ABiWcWB6"
      },
      "execution_count": null,
      "outputs": []
    },
    {
      "cell_type": "code",
      "source": [
        "n_samples = len(df)\n",
        "n_test = int(0.33 * n_samples)\n",
        "\n",
        "# Create a series of random numbers\n",
        "random_series = cudf.Series(cp.random.rand(n_samples))\n",
        "\n",
        "# Add the random series as a column to X\n",
        "df['random'] = random_series\n",
        "\n",
        "# Sort X by the random column\n",
        "X_sorted = df.sort_values('random').reset_index(drop=True)\n",
        "\n",
        "# Remove the random column\n",
        "X_sorted = X_sorted.drop('random', axis=1)\n",
        "\n",
        "# Sort y using the same order as X\n",
        "y_sorted = Y.iloc[df.sort_values('random').index].reset_index(drop=True)\n",
        "\n",
        "# Split the sorted dataframes\n",
        "X_train = X_sorted.iloc[n_test:]\n",
        "X_test = X_sorted.iloc[:n_test]\n",
        "y_train = y_sorted.iloc[n_test:]\n",
        "y_test = y_sorted.iloc[:n_test]"
      ],
      "metadata": {
        "id": "fOCxosxGKLWN"
      },
      "execution_count": null,
      "outputs": []
    },
    {
      "cell_type": "code",
      "source": [
        "del df\n",
        "#X_train, X_test, y_train, y_test = train_test_split(df, Y, shuffle=False, test_size=0.33, random_state=42)\n",
        "\n",
        "# Print the shapes to verify the split\n",
        "print(\"Training set shape:\", X_train.shape)\n",
        "print(\"Testing set shape:\", X_test.shape)\n",
        "print(\"Training label shape:\", y_train.shape)\n",
        "print(\"Testing label shape:\", y_test.shape)"
      ],
      "metadata": {
        "id": "77yPBTQFcWG9",
        "colab": {
          "base_uri": "https://localhost:8080/"
        },
        "outputId": "5c5c74d8-b5a7-4958-a1df-050b60ae602b"
      },
      "execution_count": null,
      "outputs": [
        {
          "output_type": "stream",
          "name": "stdout",
          "text": [
            "Training set shape: (7370000, 104)\n",
            "Testing set shape: (3630000, 104)\n",
            "Training label shape: (7370000,)\n",
            "Testing label shape: (3630000,)\n"
          ]
        }
      ]
    },
    {
      "cell_type": "code",
      "source": [
        "# scaler = Normalizer().fit(X_train)\n",
        "# X_train = scaler.transform(X_train)\n",
        "# X_test = scaler.transform(X_test)\n",
        "\n",
        "# from cuml.preprocessing import MinMaxScaler\n",
        "# scaler = MinMaxScaler()\n",
        "# X_train = scaler.fit_transform(X_train)\n",
        "# X_test = scaler.transform(X_test)\n",
        "\n",
        "\n",
        "from cuml.preprocessing import RobustScaler\n",
        "scaler = RobustScaler()\n",
        "X_train = scaler.fit_transform(X_train)\n",
        "X_test = scaler.transform(X_test)"
      ],
      "metadata": {
        "id": "xtZ-LBGLcWJR"
      },
      "execution_count": null,
      "outputs": []
    },
    {
      "cell_type": "code",
      "source": [
        "pca_float = PCA(n_components = 96)\n",
        "pca_float.fit(X_train)\n",
        "X_train = pca_float.transform(X_train)\n",
        "X_test = pca_float.transform(X_test)"
      ],
      "metadata": {
        "id": "SQLihIxucWLv"
      },
      "execution_count": null,
      "outputs": []
    },
    {
      "cell_type": "code",
      "source": [
        "dtrain = xgb.DMatrix(X_train, label=y_train)\n",
        "dtest = xgb.DMatrix(X_test, label=y_test)"
      ],
      "metadata": {
        "id": "uMVO-vldcWQd"
      },
      "execution_count": null,
      "outputs": []
    },
    {
      "cell_type": "code",
      "source": [
        "params = {\n",
        "    'objective': 'reg:squarederror',  # This is for regression tasks\n",
        "    'eval_metric': 'rmse',  # Use RMSE as the evaluation metric\n",
        "    'device':'cuda', # Specify which GPU to use\n",
        "    'max_depth':4,\n",
        "    'learning_rate':0.03,\n",
        "    'tree_method':'gpu_hist',\n",
        "    'subsample':0.8,\n",
        "    'colsample_bytree':0.8,\n",
        "    'predictor':'gpu_predictor',\n",
        "    'reg_alpha':2,\n",
        "    'reg_lambda':10,\n",
        "    'gamma':0.1,\n",
        "    'min_child_weight':8\n",
        "    }\n",
        "\n",
        "# 'reg_alpha':0.1,\n",
        "#     'reg_lambda':0.1"
      ],
      "metadata": {
        "id": "_QLwni8tcWTB"
      },
      "execution_count": null,
      "outputs": []
    },
    {
      "cell_type": "code",
      "source": [
        "num_rounds = 10000  # Number of boosting rounds\n",
        "model = xgb.train(\n",
        "    params,\n",
        "    dtrain,\n",
        "    num_rounds,\n",
        "    evals=[(dtrain, 'train'), (dtest, 'test')],\n",
        "    early_stopping_rounds=40,\n",
        "    verbose_eval=10\n",
        ")\n",
        "\n",
        "best_model = model.copy()\n",
        "best_model.best_iteration = model.best_iteration"
      ],
      "metadata": {
        "id": "RPn3QocUcWVl",
        "colab": {
          "base_uri": "https://localhost:8080/"
        },
        "outputId": "15639644-8637-4208-e22a-f3b2dd3809c6"
      },
      "execution_count": null,
      "outputs": [
        {
          "output_type": "stream",
          "name": "stdout",
          "text": [
            "[0]\ttrain-rmse:666.16207\ttest-rmse:665.91985\n"
          ]
        },
        {
          "output_type": "stream",
          "name": "stderr",
          "text": [
            "/usr/local/lib/python3.10/dist-packages/xgboost/core.py:158: UserWarning: [16:33:41] WARNING: /workspace/src/common/error_msg.cc:27: The tree method `gpu_hist` is deprecated since 2.0.0. To use GPU training, set the `device` parameter to CUDA instead.\n",
            "\n",
            "    E.g. tree_method = \"hist\", device = \"cuda\"\n",
            "\n",
            "  warnings.warn(smsg, UserWarning)\n",
            "/usr/local/lib/python3.10/dist-packages/xgboost/core.py:158: UserWarning: [16:33:41] WARNING: /workspace/src/learner.cc:740: \n",
            "Parameters: { \"n_estimators\", \"predictor\" } are not used.\n",
            "\n",
            "  warnings.warn(smsg, UserWarning)\n"
          ]
        },
        {
          "output_type": "stream",
          "name": "stdout",
          "text": [
            "[10]\ttrain-rmse:658.27520\ttest-rmse:658.00207\n",
            "[20]\ttrain-rmse:654.20238\ttest-rmse:653.90942\n",
            "[30]\ttrain-rmse:651.36584\ttest-rmse:651.05720\n",
            "[40]\ttrain-rmse:649.65873\ttest-rmse:649.34171\n",
            "[50]\ttrain-rmse:648.65536\ttest-rmse:648.33905\n",
            "[60]\ttrain-rmse:647.93421\ttest-rmse:647.61848\n",
            "[70]\ttrain-rmse:647.41346\ttest-rmse:647.10179\n",
            "[80]\ttrain-rmse:647.04391\ttest-rmse:646.73798\n",
            "[90]\ttrain-rmse:646.72808\ttest-rmse:646.43182\n",
            "[100]\ttrain-rmse:646.46817\ttest-rmse:646.18292\n",
            "[110]\ttrain-rmse:646.23842\ttest-rmse:645.96299\n",
            "[120]\ttrain-rmse:646.03582\ttest-rmse:645.76985\n",
            "[130]\ttrain-rmse:645.85778\ttest-rmse:645.59998\n",
            "[140]\ttrain-rmse:645.70138\ttest-rmse:645.45325\n",
            "[150]\ttrain-rmse:645.55321\ttest-rmse:645.31096\n",
            "[160]\ttrain-rmse:645.42618\ttest-rmse:645.19016\n",
            "[170]\ttrain-rmse:645.28665\ttest-rmse:645.05788\n",
            "[180]\ttrain-rmse:645.18104\ttest-rmse:644.95746\n",
            "[190]\ttrain-rmse:645.08580\ttest-rmse:644.86891\n",
            "[200]\ttrain-rmse:644.98720\ttest-rmse:644.77594\n",
            "[210]\ttrain-rmse:644.89715\ttest-rmse:644.69155\n",
            "[220]\ttrain-rmse:644.79686\ttest-rmse:644.59534\n",
            "[230]\ttrain-rmse:644.72763\ttest-rmse:644.53205\n",
            "[240]\ttrain-rmse:644.66609\ttest-rmse:644.47524\n",
            "[250]\ttrain-rmse:644.60651\ttest-rmse:644.42004\n",
            "[260]\ttrain-rmse:644.54114\ttest-rmse:644.35907\n",
            "[270]\ttrain-rmse:644.47725\ttest-rmse:644.30009\n",
            "[280]\ttrain-rmse:644.41563\ttest-rmse:644.24309\n",
            "[290]\ttrain-rmse:644.36261\ttest-rmse:644.19408\n",
            "[300]\ttrain-rmse:644.29596\ttest-rmse:644.13097\n",
            "[310]\ttrain-rmse:644.25699\ttest-rmse:644.09605\n",
            "[320]\ttrain-rmse:644.21653\ttest-rmse:644.05957\n",
            "[330]\ttrain-rmse:644.16921\ttest-rmse:644.01580\n",
            "[340]\ttrain-rmse:644.13280\ttest-rmse:643.98439\n",
            "[350]\ttrain-rmse:644.09577\ttest-rmse:643.95181\n",
            "[360]\ttrain-rmse:644.06438\ttest-rmse:643.92409\n",
            "[370]\ttrain-rmse:644.02481\ttest-rmse:643.88796\n",
            "[380]\ttrain-rmse:643.98752\ttest-rmse:643.85479\n",
            "[390]\ttrain-rmse:643.94840\ttest-rmse:643.81888\n",
            "[400]\ttrain-rmse:643.93078\ttest-rmse:643.80512\n",
            "[410]\ttrain-rmse:643.89799\ttest-rmse:643.77580\n",
            "[420]\ttrain-rmse:643.88057\ttest-rmse:643.76209\n",
            "[430]\ttrain-rmse:643.86193\ttest-rmse:643.74847\n",
            "[440]\ttrain-rmse:643.83660\ttest-rmse:643.72691\n",
            "[450]\ttrain-rmse:643.82292\ttest-rmse:643.71709\n",
            "[460]\ttrain-rmse:643.80279\ttest-rmse:643.70166\n",
            "[470]\ttrain-rmse:643.77794\ttest-rmse:643.68069\n",
            "[480]\ttrain-rmse:643.75274\ttest-rmse:643.65997\n",
            "[490]\ttrain-rmse:643.73137\ttest-rmse:643.64205\n",
            "[500]\ttrain-rmse:643.70678\ttest-rmse:643.62161\n",
            "[510]\ttrain-rmse:643.69271\ttest-rmse:643.61135\n",
            "[520]\ttrain-rmse:643.67431\ttest-rmse:643.59617\n",
            "[530]\ttrain-rmse:643.65563\ttest-rmse:643.58273\n",
            "[540]\ttrain-rmse:643.63433\ttest-rmse:643.56509\n",
            "[550]\ttrain-rmse:643.62098\ttest-rmse:643.55593\n",
            "[560]\ttrain-rmse:643.59524\ttest-rmse:643.53341\n",
            "[570]\ttrain-rmse:643.57642\ttest-rmse:643.51728\n",
            "[580]\ttrain-rmse:643.56098\ttest-rmse:643.50582\n",
            "[590]\ttrain-rmse:643.54722\ttest-rmse:643.49534\n",
            "[600]\ttrain-rmse:643.53527\ttest-rmse:643.48723\n",
            "[610]\ttrain-rmse:643.52318\ttest-rmse:643.47898\n",
            "[620]\ttrain-rmse:643.50570\ttest-rmse:643.46451\n",
            "[630]\ttrain-rmse:643.49358\ttest-rmse:643.45634\n",
            "[640]\ttrain-rmse:643.48042\ttest-rmse:643.44733\n",
            "[650]\ttrain-rmse:643.46842\ttest-rmse:643.43864\n",
            "[660]\ttrain-rmse:643.45256\ttest-rmse:643.42557\n",
            "[670]\ttrain-rmse:643.44396\ttest-rmse:643.42072\n",
            "[680]\ttrain-rmse:643.43476\ttest-rmse:643.41531\n",
            "[690]\ttrain-rmse:643.42512\ttest-rmse:643.40920\n",
            "[700]\ttrain-rmse:643.41134\ttest-rmse:643.39934\n",
            "[710]\ttrain-rmse:643.39900\ttest-rmse:643.39022\n",
            "[720]\ttrain-rmse:643.38939\ttest-rmse:643.38418\n",
            "[730]\ttrain-rmse:643.37909\ttest-rmse:643.37797\n",
            "[740]\ttrain-rmse:643.37035\ttest-rmse:643.37320\n",
            "[750]\ttrain-rmse:643.35930\ttest-rmse:643.36523\n",
            "[760]\ttrain-rmse:643.35007\ttest-rmse:643.35967\n",
            "[770]\ttrain-rmse:643.33933\ttest-rmse:643.35294\n",
            "[780]\ttrain-rmse:643.32260\ttest-rmse:643.33846\n",
            "[790]\ttrain-rmse:643.31192\ttest-rmse:643.33117\n",
            "[800]\ttrain-rmse:643.30512\ttest-rmse:643.32897\n",
            "[810]\ttrain-rmse:643.29798\ttest-rmse:643.32554\n",
            "[820]\ttrain-rmse:643.28553\ttest-rmse:643.31643\n",
            "[830]\ttrain-rmse:643.27646\ttest-rmse:643.31089\n",
            "[840]\ttrain-rmse:643.26829\ttest-rmse:643.30606\n",
            "[850]\ttrain-rmse:643.26164\ttest-rmse:643.30368\n",
            "[860]\ttrain-rmse:643.25624\ttest-rmse:643.30216\n",
            "[870]\ttrain-rmse:643.24770\ttest-rmse:643.29743\n",
            "[880]\ttrain-rmse:643.23888\ttest-rmse:643.29181\n",
            "[890]\ttrain-rmse:643.23047\ttest-rmse:643.28699\n",
            "[900]\ttrain-rmse:643.22076\ttest-rmse:643.28090\n",
            "[910]\ttrain-rmse:643.21459\ttest-rmse:643.27879\n",
            "[920]\ttrain-rmse:643.20896\ttest-rmse:643.27719\n",
            "[930]\ttrain-rmse:643.19979\ttest-rmse:643.27111\n",
            "[940]\ttrain-rmse:643.19208\ttest-rmse:643.26737\n",
            "[950]\ttrain-rmse:643.18292\ttest-rmse:643.26133\n",
            "[960]\ttrain-rmse:643.17560\ttest-rmse:643.25821\n",
            "[970]\ttrain-rmse:643.16801\ttest-rmse:643.25452\n",
            "[980]\ttrain-rmse:643.16253\ttest-rmse:643.25322\n",
            "[990]\ttrain-rmse:643.15604\ttest-rmse:643.25114\n",
            "[1000]\ttrain-rmse:643.14949\ttest-rmse:643.24889\n",
            "[1010]\ttrain-rmse:643.14296\ttest-rmse:643.24616\n",
            "[1020]\ttrain-rmse:643.13590\ttest-rmse:643.24291\n",
            "[1030]\ttrain-rmse:643.12895\ttest-rmse:643.23982\n",
            "[1040]\ttrain-rmse:643.12373\ttest-rmse:643.23878\n",
            "[1050]\ttrain-rmse:643.11683\ttest-rmse:643.23632\n",
            "[1060]\ttrain-rmse:643.10951\ttest-rmse:643.23318\n",
            "[1070]\ttrain-rmse:643.10348\ttest-rmse:643.23166\n",
            "[1080]\ttrain-rmse:643.09681\ttest-rmse:643.22905\n",
            "[1090]\ttrain-rmse:643.09061\ttest-rmse:643.22699\n",
            "[1100]\ttrain-rmse:643.08468\ttest-rmse:643.22519\n",
            "[1110]\ttrain-rmse:643.07753\ttest-rmse:643.22137\n",
            "[1120]\ttrain-rmse:643.07165\ttest-rmse:643.21955\n",
            "[1130]\ttrain-rmse:643.06604\ttest-rmse:643.21848\n",
            "[1140]\ttrain-rmse:643.06082\ttest-rmse:643.21737\n",
            "[1150]\ttrain-rmse:643.05455\ttest-rmse:643.21480\n",
            "[1160]\ttrain-rmse:643.04992\ttest-rmse:643.21402\n",
            "[1170]\ttrain-rmse:643.04408\ttest-rmse:643.21220\n",
            "[1180]\ttrain-rmse:643.03874\ttest-rmse:643.21099\n",
            "[1190]\ttrain-rmse:643.03271\ttest-rmse:643.20947\n",
            "[1200]\ttrain-rmse:643.02626\ttest-rmse:643.20623\n",
            "[1210]\ttrain-rmse:643.01803\ttest-rmse:643.20156\n",
            "[1220]\ttrain-rmse:643.01268\ttest-rmse:643.20018\n",
            "[1230]\ttrain-rmse:643.00829\ttest-rmse:643.20004\n",
            "[1240]\ttrain-rmse:643.00383\ttest-rmse:643.19998\n",
            "[1250]\ttrain-rmse:642.99862\ttest-rmse:643.19947\n",
            "[1260]\ttrain-rmse:642.99310\ttest-rmse:643.19791\n",
            "[1270]\ttrain-rmse:642.98776\ttest-rmse:643.19660\n",
            "[1280]\ttrain-rmse:642.98323\ttest-rmse:643.19623\n",
            "[1290]\ttrain-rmse:642.97819\ttest-rmse:643.19539\n",
            "[1300]\ttrain-rmse:642.97354\ttest-rmse:643.19434\n",
            "[1310]\ttrain-rmse:642.96815\ttest-rmse:643.19254\n",
            "[1320]\ttrain-rmse:642.96273\ttest-rmse:643.19092\n",
            "[1330]\ttrain-rmse:642.95582\ttest-rmse:643.18796\n",
            "[1340]\ttrain-rmse:642.95035\ttest-rmse:643.18708\n",
            "[1350]\ttrain-rmse:642.94475\ttest-rmse:643.18574\n",
            "[1360]\ttrain-rmse:642.93917\ttest-rmse:643.18499\n",
            "[1370]\ttrain-rmse:642.93413\ttest-rmse:643.18413\n",
            "[1380]\ttrain-rmse:642.92879\ttest-rmse:643.18272\n",
            "[1390]\ttrain-rmse:642.92349\ttest-rmse:643.18178\n",
            "[1400]\ttrain-rmse:642.91870\ttest-rmse:643.18178\n",
            "[1410]\ttrain-rmse:642.91431\ttest-rmse:643.18147\n",
            "[1420]\ttrain-rmse:642.90971\ttest-rmse:643.18102\n",
            "[1430]\ttrain-rmse:642.90500\ttest-rmse:643.18111\n",
            "[1440]\ttrain-rmse:642.89957\ttest-rmse:643.18048\n",
            "[1450]\ttrain-rmse:642.89447\ttest-rmse:643.17943\n",
            "[1460]\ttrain-rmse:642.88921\ttest-rmse:643.17813\n",
            "[1470]\ttrain-rmse:642.88444\ttest-rmse:643.17741\n",
            "[1480]\ttrain-rmse:642.88006\ttest-rmse:643.17696\n",
            "[1490]\ttrain-rmse:642.87554\ttest-rmse:643.17684\n",
            "[1500]\ttrain-rmse:642.87122\ttest-rmse:643.17653\n",
            "[1510]\ttrain-rmse:642.86718\ttest-rmse:643.17664\n",
            "[1520]\ttrain-rmse:642.86213\ttest-rmse:643.17531\n",
            "[1530]\ttrain-rmse:642.85579\ttest-rmse:643.17291\n",
            "[1540]\ttrain-rmse:642.85163\ttest-rmse:643.17289\n",
            "[1550]\ttrain-rmse:642.84617\ttest-rmse:643.17188\n",
            "[1560]\ttrain-rmse:642.84133\ttest-rmse:643.17144\n",
            "[1570]\ttrain-rmse:642.83648\ttest-rmse:643.17081\n",
            "[1580]\ttrain-rmse:642.83246\ttest-rmse:643.17075\n",
            "[1590]\ttrain-rmse:642.82802\ttest-rmse:643.17072\n",
            "[1600]\ttrain-rmse:642.82230\ttest-rmse:643.16903\n",
            "[1610]\ttrain-rmse:642.81769\ttest-rmse:643.16803\n",
            "[1620]\ttrain-rmse:642.81310\ttest-rmse:643.16741\n",
            "[1630]\ttrain-rmse:642.80826\ttest-rmse:643.16635\n",
            "[1640]\ttrain-rmse:642.80325\ttest-rmse:643.16558\n",
            "[1650]\ttrain-rmse:642.79898\ttest-rmse:643.16517\n",
            "[1660]\ttrain-rmse:642.79365\ttest-rmse:643.16363\n",
            "[1670]\ttrain-rmse:642.78915\ttest-rmse:643.16298\n",
            "[1680]\ttrain-rmse:642.78381\ttest-rmse:643.16194\n",
            "[1690]\ttrain-rmse:642.77873\ttest-rmse:643.16065\n",
            "[1700]\ttrain-rmse:642.77319\ttest-rmse:643.15901\n",
            "[1710]\ttrain-rmse:642.76776\ttest-rmse:643.15856\n",
            "[1720]\ttrain-rmse:642.76240\ttest-rmse:643.15732\n",
            "[1730]\ttrain-rmse:642.75824\ttest-rmse:643.15720\n",
            "[1740]\ttrain-rmse:642.75326\ttest-rmse:643.15612\n",
            "[1750]\ttrain-rmse:642.74826\ttest-rmse:643.15589\n",
            "[1760]\ttrain-rmse:642.74309\ttest-rmse:643.15562\n",
            "[1770]\ttrain-rmse:642.73774\ttest-rmse:643.15477\n",
            "[1780]\ttrain-rmse:642.73326\ttest-rmse:643.15430\n",
            "[1790]\ttrain-rmse:642.72932\ttest-rmse:643.15447\n",
            "[1800]\ttrain-rmse:642.72503\ttest-rmse:643.15406\n",
            "[1810]\ttrain-rmse:642.72035\ttest-rmse:643.15364\n",
            "[1820]\ttrain-rmse:642.71615\ttest-rmse:643.15357\n",
            "[1830]\ttrain-rmse:642.71185\ttest-rmse:643.15364\n",
            "[1840]\ttrain-rmse:642.70773\ttest-rmse:643.15336\n",
            "[1850]\ttrain-rmse:642.70338\ttest-rmse:643.15317\n",
            "[1860]\ttrain-rmse:642.69834\ttest-rmse:643.15184\n",
            "[1870]\ttrain-rmse:642.69373\ttest-rmse:643.15123\n",
            "[1880]\ttrain-rmse:642.68959\ttest-rmse:643.15129\n",
            "[1890]\ttrain-rmse:642.68471\ttest-rmse:643.15074\n",
            "[1900]\ttrain-rmse:642.68028\ttest-rmse:643.15022\n",
            "[1910]\ttrain-rmse:642.67615\ttest-rmse:643.15008\n",
            "[1920]\ttrain-rmse:642.67131\ttest-rmse:643.14992\n",
            "[1930]\ttrain-rmse:642.66672\ttest-rmse:643.14970\n",
            "[1940]\ttrain-rmse:642.66253\ttest-rmse:643.14991\n",
            "[1950]\ttrain-rmse:642.65760\ttest-rmse:643.14860\n",
            "[1960]\ttrain-rmse:642.65297\ttest-rmse:643.14836\n",
            "[1970]\ttrain-rmse:642.64805\ttest-rmse:643.14814\n",
            "[1980]\ttrain-rmse:642.64408\ttest-rmse:643.14803\n",
            "[1990]\ttrain-rmse:642.63973\ttest-rmse:643.14782\n",
            "[2000]\ttrain-rmse:642.63511\ttest-rmse:643.14670\n",
            "[2010]\ttrain-rmse:642.63093\ttest-rmse:643.14661\n",
            "[2020]\ttrain-rmse:642.62637\ttest-rmse:643.14629\n",
            "[2030]\ttrain-rmse:642.62195\ttest-rmse:643.14610\n",
            "[2040]\ttrain-rmse:642.61771\ttest-rmse:643.14583\n",
            "[2050]\ttrain-rmse:642.61320\ttest-rmse:643.14545\n",
            "[2060]\ttrain-rmse:642.60911\ttest-rmse:643.14543\n",
            "[2070]\ttrain-rmse:642.60429\ttest-rmse:643.14546\n",
            "[2080]\ttrain-rmse:642.59990\ttest-rmse:643.14528\n",
            "[2090]\ttrain-rmse:642.59563\ttest-rmse:643.14477\n",
            "[2100]\ttrain-rmse:642.59161\ttest-rmse:643.14482\n",
            "[2110]\ttrain-rmse:642.58703\ttest-rmse:643.14496\n",
            "[2120]\ttrain-rmse:642.58299\ttest-rmse:643.14468\n",
            "[2130]\ttrain-rmse:642.57923\ttest-rmse:643.14484\n",
            "[2140]\ttrain-rmse:642.57462\ttest-rmse:643.14484\n",
            "[2150]\ttrain-rmse:642.56952\ttest-rmse:643.14458\n",
            "[2160]\ttrain-rmse:642.56565\ttest-rmse:643.14469\n",
            "[2170]\ttrain-rmse:642.56172\ttest-rmse:643.14449\n",
            "[2180]\ttrain-rmse:642.55774\ttest-rmse:643.14435\n",
            "[2190]\ttrain-rmse:642.55354\ttest-rmse:643.14438\n",
            "[2200]\ttrain-rmse:642.54949\ttest-rmse:643.14433\n",
            "[2210]\ttrain-rmse:642.54436\ttest-rmse:643.14318\n",
            "[2220]\ttrain-rmse:642.54017\ttest-rmse:643.14325\n",
            "[2230]\ttrain-rmse:642.53572\ttest-rmse:643.14277\n",
            "[2240]\ttrain-rmse:642.53137\ttest-rmse:643.14247\n",
            "[2250]\ttrain-rmse:642.52673\ttest-rmse:643.14229\n",
            "[2260]\ttrain-rmse:642.52216\ttest-rmse:643.14222\n",
            "[2270]\ttrain-rmse:642.51789\ttest-rmse:643.14222\n",
            "[2280]\ttrain-rmse:642.51403\ttest-rmse:643.14223\n",
            "[2290]\ttrain-rmse:642.50987\ttest-rmse:643.14190\n",
            "[2300]\ttrain-rmse:642.50573\ttest-rmse:643.14169\n",
            "[2310]\ttrain-rmse:642.50167\ttest-rmse:643.14161\n",
            "[2320]\ttrain-rmse:642.49777\ttest-rmse:643.14183\n",
            "[2330]\ttrain-rmse:642.49353\ttest-rmse:643.14084\n",
            "[2340]\ttrain-rmse:642.48935\ttest-rmse:643.14064\n",
            "[2350]\ttrain-rmse:642.48480\ttest-rmse:643.14085\n",
            "[2360]\ttrain-rmse:642.48056\ttest-rmse:643.14109\n",
            "[2370]\ttrain-rmse:642.47481\ttest-rmse:643.14082\n",
            "[2376]\ttrain-rmse:642.47242\ttest-rmse:643.14079\n"
          ]
        },
        {
          "output_type": "stream",
          "name": "stderr",
          "text": [
            "/usr/local/lib/python3.10/dist-packages/xgboost/core.py:158: UserWarning: [16:34:45] WARNING: /workspace/src/common/error_msg.cc:27: The tree method `gpu_hist` is deprecated since 2.0.0. To use GPU training, set the `device` parameter to CUDA instead.\n",
            "\n",
            "    E.g. tree_method = \"hist\", device = \"cuda\"\n",
            "\n",
            "  warnings.warn(smsg, UserWarning)\n"
          ]
        }
      ]
    },
    {
      "cell_type": "code",
      "source": [
        "preds = best_model.predict(dtest)"
      ],
      "metadata": {
        "id": "jmwOs_mScWXq",
        "colab": {
          "base_uri": "https://localhost:8080/"
        },
        "outputId": "fe73e701-8d69-45fe-f225-0550b088dc20"
      },
      "execution_count": null,
      "outputs": [
        {
          "output_type": "stream",
          "name": "stderr",
          "text": [
            "/usr/local/lib/python3.10/dist-packages/xgboost/core.py:158: UserWarning: [16:28:30] WARNING: /workspace/src/common/error_msg.cc:27: The tree method `gpu_hist` is deprecated since 2.0.0. To use GPU training, set the `device` parameter to CUDA instead.\n",
            "\n",
            "    E.g. tree_method = \"hist\", device = \"cuda\"\n",
            "\n",
            "  warnings.warn(smsg, UserWarning)\n"
          ]
        }
      ]
    },
    {
      "cell_type": "code",
      "source": [
        "preds"
      ],
      "metadata": {
        "colab": {
          "base_uri": "https://localhost:8080/"
        },
        "id": "oLlQynmmCuDH",
        "outputId": "fa10a384-bddf-43d1-976e-d1716a183564"
      },
      "execution_count": null,
      "outputs": [
        {
          "output_type": "execute_result",
          "data": {
            "text/plain": [
              "array([42321.73 , 42345.492, 42075.477, ..., 42376.44 , 42301.473,\n",
              "       42487.145], dtype=float32)"
            ]
          },
          "metadata": {},
          "execution_count": 26
        }
      ]
    },
    {
      "cell_type": "code",
      "source": [
        "df_test = cudf.read_csv(\"test.csv\", index_col=\"id\")\n",
        "df_test = df_test.drop(['trickortreat', 'kingofhalloween','y'], axis=1)"
      ],
      "metadata": {
        "id": "XGIXXY2gCzFc"
      },
      "execution_count": null,
      "outputs": []
    },
    {
      "cell_type": "code",
      "source": [
        "int_columns = df_test.select_dtypes(include=['int64']).columns\n",
        "for col in int_columns:\n",
        "    df_test[col] = df_test[col].replace(-1, None)\n",
        "float_columns = df_test.select_dtypes(include=['float64']).columns\n",
        "int_means = df_test[int_columns].mean().astype('int64')\n",
        "float_means = df_test[float_columns].mean()\n",
        "\n",
        "\n",
        "df_test[int_columns] = df_test[int_columns].fillna(int_means)\n",
        "df_test[float_columns] = df_test[float_columns].fillna(float_means)"
      ],
      "metadata": {
        "id": "avRjkUp4CzI-"
      },
      "execution_count": null,
      "outputs": []
    },
    {
      "cell_type": "code",
      "source": [
        "X = df_test[feature_cols]"
      ],
      "metadata": {
        "id": "GyWLVzs0CzNA"
      },
      "execution_count": null,
      "outputs": []
    },
    {
      "cell_type": "code",
      "source": [
        "for column in X.select_dtypes(include=['float64', 'int64']).columns:\n",
        "  Q1 = X[column].quantile(0.25)\n",
        "  Q3 = X[column].quantile(0.75)\n",
        "  IQR = Q3 - Q1\n",
        "  lower_bound = Q1 - 1.5 * IQR\n",
        "  upper_bound = Q3 + 1.5 * IQR\n",
        "\n",
        "  median = X[column].median()\n",
        "\n",
        "  # Create a boolean mask for outliers\n",
        "  outlier_mask = (X[column] < lower_bound) | (X[column] > upper_bound)\n",
        "\n",
        "  # Replace outliers with median, maintaining the original dtype\n",
        "  if X[column].dtype == 'int64':\n",
        "    X[column] = X[column].astype('float64')\n",
        "    X[column] = X[column].where(~outlier_mask, median)\n",
        "    X[column] = X[column].astype('int64')\n",
        "  else:\n",
        "    X[column] = X[column].where(~outlier_mask, median)"
      ],
      "metadata": {
        "id": "cRMuux6MCzQc"
      },
      "execution_count": null,
      "outputs": []
    },
    {
      "cell_type": "code",
      "source": [
        "X = scaler.transform(X)"
      ],
      "metadata": {
        "id": "JPbBgb-zCzb0"
      },
      "execution_count": null,
      "outputs": []
    },
    {
      "cell_type": "code",
      "source": [
        "X = pca_float.transform(X)"
      ],
      "metadata": {
        "id": "T1b7oIHRDq2D"
      },
      "execution_count": null,
      "outputs": []
    },
    {
      "cell_type": "code",
      "source": [
        "dfinaltest = xgb.DMatrix(X)"
      ],
      "metadata": {
        "id": "hVJtPp1iDq5K"
      },
      "execution_count": null,
      "outputs": []
    },
    {
      "cell_type": "code",
      "source": [
        "final_preds = best_model.predict(dfinaltest)\n",
        "final_preds"
      ],
      "metadata": {
        "colab": {
          "base_uri": "https://localhost:8080/"
        },
        "id": "tbS61doiDq7y",
        "outputId": "f41ba1f8-e956-4f08-8770-0feaee662af8"
      },
      "execution_count": null,
      "outputs": [
        {
          "output_type": "stream",
          "name": "stderr",
          "text": [
            "/usr/local/lib/python3.10/dist-packages/xgboost/core.py:158: UserWarning: [16:35:01] WARNING: /workspace/src/common/error_msg.cc:27: The tree method `gpu_hist` is deprecated since 2.0.0. To use GPU training, set the `device` parameter to CUDA instead.\n",
            "\n",
            "    E.g. tree_method = \"hist\", device = \"cuda\"\n",
            "\n",
            "  warnings.warn(smsg, UserWarning)\n"
          ]
        },
        {
          "output_type": "execute_result",
          "data": {
            "text/plain": [
              "array([42213.305, 42290.582, 42452.062, ..., 42166.74 , 42293.766,\n",
              "       42372.473], dtype=float32)"
            ]
          },
          "metadata": {},
          "execution_count": 27
        }
      ]
    },
    {
      "cell_type": "code",
      "source": [
        "submission_df = cudf.DataFrame({'id': df_test.index, 'y': final_preds})"
      ],
      "metadata": {
        "id": "9AzyU0kEDq_X"
      },
      "execution_count": null,
      "outputs": []
    },
    {
      "cell_type": "code",
      "source": [
        "submission_df.to_csv(\"submission.csv\", index=False)"
      ],
      "metadata": {
        "id": "DQaXGjwlFjka"
      },
      "execution_count": null,
      "outputs": []
    },
    {
      "cell_type": "code",
      "source": [],
      "metadata": {
        "id": "vPtVoyIbFkCA"
      },
      "execution_count": null,
      "outputs": []
    },
    {
      "cell_type": "code",
      "source": [
        "model.save_model(\"nvidiamodel.model\")"
      ],
      "metadata": {
        "colab": {
          "base_uri": "https://localhost:8080/"
        },
        "id": "GFZGglbpvs3R",
        "outputId": "00f0d670-53df-4ac8-f795-a6e6206becf6"
      },
      "execution_count": null,
      "outputs": [
        {
          "output_type": "stream",
          "name": "stderr",
          "text": [
            "/usr/local/lib/python3.10/dist-packages/xgboost/core.py:158: UserWarning: [13:24:26] WARNING: /workspace/src/c_api/c_api.cc:1374: Saving model in the UBJSON format as default.  You can use file extension: `json`, `ubj` or `deprecated` to choose between formats.\n",
            "  warnings.warn(smsg, UserWarning)\n"
          ]
        }
      ]
    },
    {
      "cell_type": "code",
      "source": [
        "rmse = mean_squared_error(y_test, preds, sample_weight=None, multioutput='uniform_average', squared=False)"
      ],
      "metadata": {
        "id": "tx0ibzrhcWbE"
      },
      "execution_count": null,
      "outputs": []
    },
    {
      "cell_type": "code",
      "source": [
        "rmse"
      ],
      "metadata": {
        "colab": {
          "base_uri": "https://localhost:8080/"
        },
        "id": "T-Qu8TxVjVXA",
        "outputId": "2836c7ab-d1ea-4427-a872-cbabdf3570c8"
      },
      "execution_count": null,
      "outputs": [
        {
          "output_type": "execute_result",
          "data": {
            "text/plain": [
              "array(648.39581652)"
            ]
          },
          "metadata": {},
          "execution_count": 26
        }
      ]
    },
    {
      "cell_type": "code",
      "source": [
        "model_path = 'xgb.model'\n",
        "num_rounds = 1000\n",
        "max_depth = 20"
      ],
      "metadata": {
        "id": "huKoMji4qMof"
      },
      "execution_count": null,
      "outputs": []
    },
    {
      "cell_type": "code",
      "source": [
        "def train_xgboost_model(dtrain, dtest, model_path='xgb.model',num_rounds=100, early_stopping_rounds=10):\n",
        "\n",
        "    # set the xgboost model parameters\n",
        "    params = {\n",
        "        'verbosity': 0,\n",
        "        'eval_metric':'rmse',\n",
        "        'objective':'reg:squarederror',\n",
        "        'tree_method': 'gpu_hist',\n",
        "        'device':'cuda'\n",
        "    }\n",
        "\n",
        "\n",
        "    # train the xgboost model\n",
        "    trained_model = xgb.train(params, dtrain, num_rounds,evals=[(dtrain, 'train'), (dtest, 'test')],early_stopping_rounds=early_stopping_rounds,\n",
        "    verbose_eval=10)\n",
        "\n",
        "    # save the trained xgboost model\n",
        "    trained_model.save_model(model_path)\n",
        "\n",
        "    return trained_model"
      ],
      "metadata": {
        "id": "UiXo-ogOqMrJ"
      },
      "execution_count": null,
      "outputs": []
    },
    {
      "cell_type": "code",
      "source": [
        "def predict_xgboost_model(dtest, xgb_model):\n",
        "\n",
        "    # predict using the xgboost model\n",
        "    #dvalidation = xgb.DMatrix(X_validation, label=y_validation)\n",
        "    predictions = xgb_model.predict(dtest)\n",
        "\n",
        "    # convert the predicted values from xgboost into class labels\n",
        "    predictions = cp.around(predictions)\n",
        "\n",
        "    return predictions"
      ],
      "metadata": {
        "id": "CYb2sDLIqMt2"
      },
      "execution_count": null,
      "outputs": []
    },
    {
      "cell_type": "code",
      "source": [
        "%%time\n",
        "# train the xgboost model\n",
        "dtrain = xgb.DMatrix(X_train, label=y_train)\n",
        "dtest = xgb.DMatrix(X_test, label=y_test)\n",
        "xgboost_model = train_xgboost_model(\n",
        "    dtrain,\n",
        "    dtest,\n",
        "    model_path,\n",
        "    num_rounds,\n",
        "    10)"
      ],
      "metadata": {
        "colab": {
          "base_uri": "https://localhost:8080/"
        },
        "id": "kBkuiZzFqM2F",
        "outputId": "811c22c5-ee8b-4236-877b-287a54d5ee2f"
      },
      "execution_count": null,
      "outputs": [
        {
          "output_type": "stream",
          "name": "stdout",
          "text": [
            "[0]\ttrain-rmse:658.82326\ttest-rmse:657.52022\n",
            "[10]\ttrain-rmse:646.76784\ttest-rmse:646.79239\n",
            "[20]\ttrain-rmse:645.41956\ttest-rmse:646.36479\n",
            "[30]\ttrain-rmse:644.35828\ttest-rmse:646.27164\n",
            "[40]\ttrain-rmse:643.13927\ttest-rmse:646.30495\n",
            "[42]\ttrain-rmse:642.99571\ttest-rmse:646.30650\n",
            "CPU times: user 2.55 s, sys: 165 ms, total: 2.72 s\n",
            "Wall time: 4.94 s\n"
          ]
        }
      ]
    },
    {
      "cell_type": "code",
      "source": [
        "%%time\n",
        "# test the xgboost model\n",
        "trained_model_preds = predict_xgboost_model(\n",
        "    dtest,\n",
        "    xgboost_model\n",
        ")"
      ],
      "metadata": {
        "colab": {
          "base_uri": "https://localhost:8080/"
        },
        "id": "9HN_mFh-qcIb",
        "outputId": "2fe85a1d-7d77-45ac-ef24-b36db6f0aa8d"
      },
      "execution_count": null,
      "outputs": [
        {
          "output_type": "stream",
          "name": "stdout",
          "text": [
            "CPU times: user 15.7 ms, sys: 1.35 ms, total: 17.1 ms\n",
            "Wall time: 11.5 ms\n"
          ]
        }
      ]
    },
    {
      "cell_type": "code",
      "source": [
        "rmse = mean_squared_error(y_test, trained_model_preds, sample_weight=None, multioutput='uniform_average', squared=False)\n",
        "rmse"
      ],
      "metadata": {
        "colab": {
          "base_uri": "https://localhost:8080/"
        },
        "id": "cCQX3EvHwsd9",
        "outputId": "b6c6117a-7085-4bc4-d6a5-2652cb297474"
      },
      "execution_count": null,
      "outputs": [
        {
          "output_type": "execute_result",
          "data": {
            "text/plain": [
              "array(648.02944297)"
            ]
          },
          "metadata": {},
          "execution_count": 31
        }
      ]
    },
    {
      "cell_type": "markdown",
      "source": [
        "#Training on Full Data"
      ],
      "metadata": {
        "id": "I3sm1LoWj75U"
      }
    },
    {
      "cell_type": "code",
      "source": [
        "import cudf\n",
        "import cupy as cp\n",
        "import xgboost as xgb\n",
        "from cuml.model_selection import train_test_split\n",
        "from cuml.preprocessing import StandardScaler\n",
        "from sklearn.model_selection import KFold\n",
        "\n",
        "# Assuming X and Y are cuDF DataFrames\n",
        "#X_train, X_test, y_train, y_test = train_test_split(X, Y, test_size=0.33, random_state=42)\n",
        "\n",
        "# Standardize features\n",
        "#scaler = StandardScaler()\n",
        "#X_train = scaler.fit_transform(X_train)\n",
        "#X_test = scaler.transform(X_test)\n",
        "\n",
        "# Combine all data\n",
        "X_all = cudf.concat([X_train, X_test], axis=0)\n",
        "y_all = cudf.concat([y_train, y_test], axis=0)\n",
        "\n",
        "# Convert to CuPy arrays for easier indexing\n",
        "X_all = X_all.to_cupy()\n",
        "y_all = y_all.to_cupy()\n",
        "\n",
        "# Set up parameters\n",
        "params = {\n",
        "    'objective': 'reg:squarederror',\n",
        "    'eval_metric': 'rmse',\n",
        "    'device': 'cuda'\n",
        "}\n",
        "\n",
        "# Perform cross-validation\n",
        "kf = KFold(n_splits=5, shuffle=True, random_state=42)\n",
        "cv_scores = []\n",
        "\n",
        "for train_index, val_index in kf.split(X_all):\n",
        "    X_train_cv, X_val_cv = X_all[train_index], X_all[val_index]\n",
        "    y_train_cv, y_val_cv = y_all[train_index], y_all[val_index]\n",
        "\n",
        "    dtrain_cv = xgb.DMatrix(X_train_cv, label=y_train_cv)\n",
        "    dval_cv = xgb.DMatrix(X_val_cv, label=y_val_cv)\n",
        "\n",
        "    model_cv = train_xgboost_model(\n",
        "    dtrain_cv,\n",
        "    dval_cv,\n",
        "    model_path,\n",
        "    num_rounds,\n",
        "    10)\n",
        "\n",
        "    cv_scores.append(model_cv.best_score)\n",
        "\n",
        "# Calculate mean CV score using numpy\n",
        "print(f\"Mean CV score: {np.mean(cv_scores)}\")"
      ],
      "metadata": {
        "colab": {
          "base_uri": "https://localhost:8080/",
          "height": 773
        },
        "id": "268vMJoVlG81",
        "outputId": "b517fb52-d771-490b-d771-97bb480e629c"
      },
      "execution_count": null,
      "outputs": [
        {
          "output_type": "stream",
          "name": "stdout",
          "text": [
            "[0]\ttrain-rmse:658.06667\ttest-rmse:659.17820\n",
            "[10]\ttrain-rmse:646.92765\ttest-rmse:648.39225\n",
            "[20]\ttrain-rmse:646.08067\ttest-rmse:647.78510\n",
            "[30]\ttrain-rmse:645.65973\ttest-rmse:647.56428\n",
            "[40]\ttrain-rmse:645.19823\ttest-rmse:647.39739\n",
            "[50]\ttrain-rmse:644.89680\ttest-rmse:647.31840\n",
            "[60]\ttrain-rmse:644.63219\ttest-rmse:647.27564\n",
            "[70]\ttrain-rmse:644.35469\ttest-rmse:647.23046\n",
            "[80]\ttrain-rmse:644.06566\ttest-rmse:647.21894\n",
            "[90]\ttrain-rmse:643.81988\ttest-rmse:647.21943\n"
          ]
        },
        {
          "output_type": "error",
          "ename": "XGBoostError",
          "evalue": "[12:15:11] /workspace/src/c_api/../common/device_helpers.cuh:393: Memory allocation error on worker 0: std::bad_alloc: cudaErrorMemoryAllocation: out of memory\n- Free memory: 2303524864\n- Requested memory: 4505600000\n\nStack trace:\n  [bt] (0) /usr/local/lib/python3.10/dist-packages/xgboost/lib/libxgboost.so(+0x22dcbc) [0x79d4e9a2dcbc]\n  [bt] (1) /usr/local/lib/python3.10/dist-packages/xgboost/lib/libxgboost.so(+0x8a9966) [0x79d4ea0a9966]\n  [bt] (2) /usr/local/lib/python3.10/dist-packages/xgboost/lib/libxgboost.so(+0xec63c) [0x79d4e98ec63c]\n  [bt] (3) /usr/local/lib/python3.10/dist-packages/xgboost/lib/libxgboost.so(+0x924b2d) [0x79d4ea124b2d]\n  [bt] (4) /usr/local/lib/python3.10/dist-packages/xgboost/lib/libxgboost.so(+0x9262f7) [0x79d4ea1262f7]\n  [bt] (5) /usr/local/lib/python3.10/dist-packages/xgboost/lib/libxgboost.so(+0xa292b3) [0x79d4ea2292b3]\n  [bt] (6) /usr/local/lib/python3.10/dist-packages/xgboost/lib/libxgboost.so(+0xa2a092) [0x79d4ea22a092]\n  [bt] (7) /usr/local/lib/python3.10/dist-packages/xgboost/lib/libxgboost.so(+0x9bbd5d) [0x79d4ea1bbd5d]\n  [bt] (8) /usr/local/lib/python3.10/dist-packages/xgboost/lib/libxgboost.so(XGDMatrixCreateFromCudaArrayInterface+0x79e) [0x79d4ea080e9e]\n\n",
          "traceback": [
            "\u001b[0;31m---------------------------------------------------------------------------\u001b[0m",
            "\u001b[0;31mXGBoostError\u001b[0m                              Traceback (most recent call last)",
            "\u001b[0;32m<ipython-input-14-8739b2c94520>\u001b[0m in \u001b[0;36m<cell line: 35>\u001b[0;34m()\u001b[0m\n\u001b[1;32m     37\u001b[0m     \u001b[0my_train_cv\u001b[0m\u001b[0;34m,\u001b[0m \u001b[0my_val_cv\u001b[0m \u001b[0;34m=\u001b[0m \u001b[0my_all\u001b[0m\u001b[0;34m[\u001b[0m\u001b[0mtrain_index\u001b[0m\u001b[0;34m]\u001b[0m\u001b[0;34m,\u001b[0m \u001b[0my_all\u001b[0m\u001b[0;34m[\u001b[0m\u001b[0mval_index\u001b[0m\u001b[0;34m]\u001b[0m\u001b[0;34m\u001b[0m\u001b[0;34m\u001b[0m\u001b[0m\n\u001b[1;32m     38\u001b[0m \u001b[0;34m\u001b[0m\u001b[0m\n\u001b[0;32m---> 39\u001b[0;31m     \u001b[0mdtrain_cv\u001b[0m \u001b[0;34m=\u001b[0m \u001b[0mxgb\u001b[0m\u001b[0;34m.\u001b[0m\u001b[0mDMatrix\u001b[0m\u001b[0;34m(\u001b[0m\u001b[0mX_train_cv\u001b[0m\u001b[0;34m,\u001b[0m \u001b[0mlabel\u001b[0m\u001b[0;34m=\u001b[0m\u001b[0my_train_cv\u001b[0m\u001b[0;34m)\u001b[0m\u001b[0;34m\u001b[0m\u001b[0;34m\u001b[0m\u001b[0m\n\u001b[0m\u001b[1;32m     40\u001b[0m     \u001b[0mdval_cv\u001b[0m \u001b[0;34m=\u001b[0m \u001b[0mxgb\u001b[0m\u001b[0;34m.\u001b[0m\u001b[0mDMatrix\u001b[0m\u001b[0;34m(\u001b[0m\u001b[0mX_val_cv\u001b[0m\u001b[0;34m,\u001b[0m \u001b[0mlabel\u001b[0m\u001b[0;34m=\u001b[0m\u001b[0my_val_cv\u001b[0m\u001b[0;34m)\u001b[0m\u001b[0;34m\u001b[0m\u001b[0;34m\u001b[0m\u001b[0m\n\u001b[1;32m     41\u001b[0m \u001b[0;34m\u001b[0m\u001b[0m\n",
            "\u001b[0;32m/usr/local/lib/python3.10/dist-packages/xgboost/core.py\u001b[0m in \u001b[0;36minner_f\u001b[0;34m(*args, **kwargs)\u001b[0m\n\u001b[1;32m    724\u001b[0m             \u001b[0;32mfor\u001b[0m \u001b[0mk\u001b[0m\u001b[0;34m,\u001b[0m \u001b[0marg\u001b[0m \u001b[0;32min\u001b[0m \u001b[0mzip\u001b[0m\u001b[0;34m(\u001b[0m\u001b[0msig\u001b[0m\u001b[0;34m.\u001b[0m\u001b[0mparameters\u001b[0m\u001b[0;34m,\u001b[0m \u001b[0margs\u001b[0m\u001b[0;34m)\u001b[0m\u001b[0;34m:\u001b[0m\u001b[0;34m\u001b[0m\u001b[0;34m\u001b[0m\u001b[0m\n\u001b[1;32m    725\u001b[0m                 \u001b[0mkwargs\u001b[0m\u001b[0;34m[\u001b[0m\u001b[0mk\u001b[0m\u001b[0;34m]\u001b[0m \u001b[0;34m=\u001b[0m \u001b[0marg\u001b[0m\u001b[0;34m\u001b[0m\u001b[0;34m\u001b[0m\u001b[0m\n\u001b[0;32m--> 726\u001b[0;31m             \u001b[0;32mreturn\u001b[0m \u001b[0mfunc\u001b[0m\u001b[0;34m(\u001b[0m\u001b[0;34m**\u001b[0m\u001b[0mkwargs\u001b[0m\u001b[0;34m)\u001b[0m\u001b[0;34m\u001b[0m\u001b[0;34m\u001b[0m\u001b[0m\n\u001b[0m\u001b[1;32m    727\u001b[0m \u001b[0;34m\u001b[0m\u001b[0m\n\u001b[1;32m    728\u001b[0m         \u001b[0;32mreturn\u001b[0m \u001b[0minner_f\u001b[0m\u001b[0;34m\u001b[0m\u001b[0;34m\u001b[0m\u001b[0m\n",
            "\u001b[0;32m/usr/local/lib/python3.10/dist-packages/xgboost/core.py\u001b[0m in \u001b[0;36m__init__\u001b[0;34m(self, data, label, weight, base_margin, missing, silent, feature_names, feature_types, nthread, group, qid, label_lower_bound, label_upper_bound, feature_weights, enable_categorical, data_split_mode)\u001b[0m\n\u001b[1;32m    876\u001b[0m             \u001b[0;32mreturn\u001b[0m\u001b[0;34m\u001b[0m\u001b[0;34m\u001b[0m\u001b[0m\n\u001b[1;32m    877\u001b[0m \u001b[0;34m\u001b[0m\u001b[0m\n\u001b[0;32m--> 878\u001b[0;31m         handle, feature_names, feature_types = dispatch_data_backend(\n\u001b[0m\u001b[1;32m    879\u001b[0m             \u001b[0mdata\u001b[0m\u001b[0;34m,\u001b[0m\u001b[0;34m\u001b[0m\u001b[0;34m\u001b[0m\u001b[0m\n\u001b[1;32m    880\u001b[0m             \u001b[0mmissing\u001b[0m\u001b[0;34m=\u001b[0m\u001b[0mself\u001b[0m\u001b[0;34m.\u001b[0m\u001b[0mmissing\u001b[0m\u001b[0;34m,\u001b[0m\u001b[0;34m\u001b[0m\u001b[0;34m\u001b[0m\u001b[0m\n",
            "\u001b[0;32m/usr/local/lib/python3.10/dist-packages/xgboost/data.py\u001b[0m in \u001b[0;36mdispatch_data_backend\u001b[0;34m(data, missing, threads, feature_names, feature_types, enable_categorical, data_split_mode)\u001b[0m\n\u001b[1;32m   1207\u001b[0m         )\n\u001b[1;32m   1208\u001b[0m     \u001b[0;32mif\u001b[0m \u001b[0m_is_cupy_alike\u001b[0m\u001b[0;34m(\u001b[0m\u001b[0mdata\u001b[0m\u001b[0;34m)\u001b[0m\u001b[0;34m:\u001b[0m\u001b[0;34m\u001b[0m\u001b[0;34m\u001b[0m\u001b[0m\n\u001b[0;32m-> 1209\u001b[0;31m         \u001b[0;32mreturn\u001b[0m \u001b[0m_from_cupy_array\u001b[0m\u001b[0;34m(\u001b[0m\u001b[0mdata\u001b[0m\u001b[0;34m,\u001b[0m \u001b[0mmissing\u001b[0m\u001b[0;34m,\u001b[0m \u001b[0mthreads\u001b[0m\u001b[0;34m,\u001b[0m \u001b[0mfeature_names\u001b[0m\u001b[0;34m,\u001b[0m \u001b[0mfeature_types\u001b[0m\u001b[0;34m)\u001b[0m\u001b[0;34m\u001b[0m\u001b[0;34m\u001b[0m\u001b[0m\n\u001b[0m\u001b[1;32m   1210\u001b[0m     \u001b[0;32mif\u001b[0m \u001b[0m_is_cupy_csr\u001b[0m\u001b[0;34m(\u001b[0m\u001b[0mdata\u001b[0m\u001b[0;34m)\u001b[0m\u001b[0;34m:\u001b[0m\u001b[0;34m\u001b[0m\u001b[0;34m\u001b[0m\u001b[0m\n\u001b[1;32m   1211\u001b[0m         \u001b[0;32mraise\u001b[0m \u001b[0mTypeError\u001b[0m\u001b[0;34m(\u001b[0m\u001b[0;34m\"cupyx CSR is not supported yet.\"\u001b[0m\u001b[0;34m)\u001b[0m\u001b[0;34m\u001b[0m\u001b[0;34m\u001b[0m\u001b[0m\n",
            "\u001b[0;32m/usr/local/lib/python3.10/dist-packages/xgboost/data.py\u001b[0m in \u001b[0;36m_from_cupy_array\u001b[0;34m(data, missing, nthread, feature_names, feature_types)\u001b[0m\n\u001b[1;32m   1011\u001b[0m     \u001b[0mhandle\u001b[0m \u001b[0;34m=\u001b[0m \u001b[0mctypes\u001b[0m\u001b[0;34m.\u001b[0m\u001b[0mc_void_p\u001b[0m\u001b[0;34m(\u001b[0m\u001b[0;34m)\u001b[0m\u001b[0;34m\u001b[0m\u001b[0;34m\u001b[0m\u001b[0m\n\u001b[1;32m   1012\u001b[0m     \u001b[0mconfig\u001b[0m \u001b[0;34m=\u001b[0m \u001b[0mbytes\u001b[0m\u001b[0;34m(\u001b[0m\u001b[0mjson\u001b[0m\u001b[0;34m.\u001b[0m\u001b[0mdumps\u001b[0m\u001b[0;34m(\u001b[0m\u001b[0;34m{\u001b[0m\u001b[0;34m\"missing\"\u001b[0m\u001b[0;34m:\u001b[0m \u001b[0mmissing\u001b[0m\u001b[0;34m,\u001b[0m \u001b[0;34m\"nthread\"\u001b[0m\u001b[0;34m:\u001b[0m \u001b[0mnthread\u001b[0m\u001b[0;34m}\u001b[0m\u001b[0;34m)\u001b[0m\u001b[0;34m,\u001b[0m \u001b[0;34m\"utf-8\"\u001b[0m\u001b[0;34m)\u001b[0m\u001b[0;34m\u001b[0m\u001b[0;34m\u001b[0m\u001b[0m\n\u001b[0;32m-> 1013\u001b[0;31m     _check_call(\n\u001b[0m\u001b[1;32m   1014\u001b[0m         _LIB.XGDMatrixCreateFromCudaArrayInterface(\n\u001b[1;32m   1015\u001b[0m             \u001b[0minterface_str\u001b[0m\u001b[0;34m,\u001b[0m \u001b[0mconfig\u001b[0m\u001b[0;34m,\u001b[0m \u001b[0mctypes\u001b[0m\u001b[0;34m.\u001b[0m\u001b[0mbyref\u001b[0m\u001b[0;34m(\u001b[0m\u001b[0mhandle\u001b[0m\u001b[0;34m)\u001b[0m\u001b[0;34m\u001b[0m\u001b[0;34m\u001b[0m\u001b[0m\n",
            "\u001b[0;32m/usr/local/lib/python3.10/dist-packages/xgboost/core.py\u001b[0m in \u001b[0;36m_check_call\u001b[0;34m(ret)\u001b[0m\n\u001b[1;32m    282\u001b[0m     \"\"\"\n\u001b[1;32m    283\u001b[0m     \u001b[0;32mif\u001b[0m \u001b[0mret\u001b[0m \u001b[0;34m!=\u001b[0m \u001b[0;36m0\u001b[0m\u001b[0;34m:\u001b[0m\u001b[0;34m\u001b[0m\u001b[0;34m\u001b[0m\u001b[0m\n\u001b[0;32m--> 284\u001b[0;31m         \u001b[0;32mraise\u001b[0m \u001b[0mXGBoostError\u001b[0m\u001b[0;34m(\u001b[0m\u001b[0mpy_str\u001b[0m\u001b[0;34m(\u001b[0m\u001b[0m_LIB\u001b[0m\u001b[0;34m.\u001b[0m\u001b[0mXGBGetLastError\u001b[0m\u001b[0;34m(\u001b[0m\u001b[0;34m)\u001b[0m\u001b[0;34m)\u001b[0m\u001b[0;34m)\u001b[0m\u001b[0;34m\u001b[0m\u001b[0;34m\u001b[0m\u001b[0m\n\u001b[0m\u001b[1;32m    285\u001b[0m \u001b[0;34m\u001b[0m\u001b[0m\n\u001b[1;32m    286\u001b[0m \u001b[0;34m\u001b[0m\u001b[0m\n",
            "\u001b[0;31mXGBoostError\u001b[0m: [12:15:11] /workspace/src/c_api/../common/device_helpers.cuh:393: Memory allocation error on worker 0: std::bad_alloc: cudaErrorMemoryAllocation: out of memory\n- Free memory: 2303524864\n- Requested memory: 4505600000\n\nStack trace:\n  [bt] (0) /usr/local/lib/python3.10/dist-packages/xgboost/lib/libxgboost.so(+0x22dcbc) [0x79d4e9a2dcbc]\n  [bt] (1) /usr/local/lib/python3.10/dist-packages/xgboost/lib/libxgboost.so(+0x8a9966) [0x79d4ea0a9966]\n  [bt] (2) /usr/local/lib/python3.10/dist-packages/xgboost/lib/libxgboost.so(+0xec63c) [0x79d4e98ec63c]\n  [bt] (3) /usr/local/lib/python3.10/dist-packages/xgboost/lib/libxgboost.so(+0x924b2d) [0x79d4ea124b2d]\n  [bt] (4) /usr/local/lib/python3.10/dist-packages/xgboost/lib/libxgboost.so(+0x9262f7) [0x79d4ea1262f7]\n  [bt] (5) /usr/local/lib/python3.10/dist-packages/xgboost/lib/libxgboost.so(+0xa292b3) [0x79d4ea2292b3]\n  [bt] (6) /usr/local/lib/python3.10/dist-packages/xgboost/lib/libxgboost.so(+0xa2a092) [0x79d4ea22a092]\n  [bt] (7) /usr/local/lib/python3.10/dist-packages/xgboost/lib/libxgboost.so(+0x9bbd5d) [0x79d4ea1bbd5d]\n  [bt] (8) /usr/local/lib/python3.10/dist-packages/xgboost/lib/libxgboost.so(XGDMatrixCreateFromCudaArrayInterface+0x79e) [0x79d4ea080e9e]\n\n"
          ]
        }
      ]
    },
    {
      "cell_type": "code",
      "source": [
        "X_all = cudf.concat([X_train, X_test], axis=0)\n",
        "y_all = cudf.concat([y_train, y_test], axis=0)\n",
        "\n",
        "# Convert to CuPy arrays for easier indexing\n",
        "X_all = X_all.to_cupy()\n",
        "y_all = y_all.to_cupy()"
      ],
      "metadata": {
        "id": "p7g2TphShyDq"
      },
      "execution_count": null,
      "outputs": []
    },
    {
      "cell_type": "code",
      "source": [
        "del train_xgboost_model"
      ],
      "metadata": {
        "id": "FAQ3DaAVgepl"
      },
      "execution_count": null,
      "outputs": []
    },
    {
      "cell_type": "code",
      "source": [
        "# Train final model on all data\n",
        "params = {\n",
        "    'objective': 'reg:squarederror',\n",
        "    'eval_metric': 'rmse',\n",
        "    'device': 'cuda'\n",
        "}\n",
        "dall = xgb.DMatrix(X_all, label=y_all)\n",
        "num_rounds = 90  # You might want to adjust this based on CV results\n",
        "model_final = xgb.train(params, dall, num_rounds)"
      ],
      "metadata": {
        "id": "nqrRky9_0IY5"
      },
      "execution_count": null,
      "outputs": []
    },
    {
      "cell_type": "markdown",
      "source": [
        "#PredictionsonTestData"
      ],
      "metadata": {
        "id": "hxayULp91zcz"
      }
    },
    {
      "cell_type": "code",
      "source": [
        "#del df\n",
        "del X_train\n",
        "del X_test\n",
        "del y_train\n",
        "del y_test\n",
        "del X_all\n",
        "del y_all"
      ],
      "metadata": {
        "id": "55TVE7VuSfLu",
        "colab": {
          "base_uri": "https://localhost:8080/",
          "height": 211
        },
        "outputId": "1f18066d-5d4b-43d0-c986-373398f2dd89"
      },
      "execution_count": null,
      "outputs": [
        {
          "output_type": "error",
          "ename": "NameError",
          "evalue": "name 'df' is not defined",
          "traceback": [
            "\u001b[0;31m---------------------------------------------------------------------------\u001b[0m",
            "\u001b[0;31mNameError\u001b[0m                                 Traceback (most recent call last)",
            "\u001b[0;32m<ipython-input-19-0fdc28ebea47>\u001b[0m in \u001b[0;36m<cell line: 1>\u001b[0;34m()\u001b[0m\n\u001b[0;32m----> 1\u001b[0;31m \u001b[0;32mdel\u001b[0m \u001b[0mdf\u001b[0m\u001b[0;34m\u001b[0m\u001b[0;34m\u001b[0m\u001b[0m\n\u001b[0m\u001b[1;32m      2\u001b[0m \u001b[0;32mdel\u001b[0m \u001b[0mX_train\u001b[0m\u001b[0;34m\u001b[0m\u001b[0;34m\u001b[0m\u001b[0m\n\u001b[1;32m      3\u001b[0m \u001b[0;32mdel\u001b[0m \u001b[0mX_test\u001b[0m\u001b[0;34m\u001b[0m\u001b[0;34m\u001b[0m\u001b[0m\n\u001b[1;32m      4\u001b[0m \u001b[0;32mdel\u001b[0m \u001b[0my_train\u001b[0m\u001b[0;34m\u001b[0m\u001b[0;34m\u001b[0m\u001b[0m\n\u001b[1;32m      5\u001b[0m \u001b[0;32mdel\u001b[0m \u001b[0my_test\u001b[0m\u001b[0;34m\u001b[0m\u001b[0;34m\u001b[0m\u001b[0m\n",
            "\u001b[0;31mNameError\u001b[0m: name 'df' is not defined"
          ]
        }
      ]
    },
    {
      "cell_type": "code",
      "source": [
        "df_test = cudf.read_csv(\"test.csv\", index_col=\"id\")\n",
        "df_test = df_test.drop(['trickortreat', 'kingofhalloween','y'], axis=1)\n",
        "# view a random sample of 10 rows:\n",
        "#df_test.sample(10)"
      ],
      "metadata": {
        "id": "OfQFkedC0vj7"
      },
      "execution_count": null,
      "outputs": []
    },
    {
      "cell_type": "code",
      "source": [
        "int_columns = df_test.select_dtypes(include=['int64']).columns\n",
        "for col in int_columns:\n",
        "    df_test[col] = df_test[col].replace(-1, None)\n",
        "float_columns = df_test.select_dtypes(include=['float64']).columns\n",
        "int_means = df_test[int_columns].mean().astype('int64')\n",
        "float_means = df_test[float_columns].mean()\n",
        "\n",
        "\n",
        "df_test[int_columns] = df_test[int_columns].fillna(int_means)\n",
        "df_test[float_columns] = df_test[float_columns].fillna(float_means)"
      ],
      "metadata": {
        "id": "rRE2mCG821wg"
      },
      "execution_count": null,
      "outputs": []
    },
    {
      "cell_type": "code",
      "source": [
        "X = df_test[feature_cols]"
      ],
      "metadata": {
        "id": "oY5fVZ6T0vms"
      },
      "execution_count": null,
      "outputs": []
    },
    {
      "cell_type": "code",
      "source": [
        "for column in X.select_dtypes(include=['float64', 'int64']).columns:\n",
        "        Q1 = X[column].quantile(0.25)\n",
        "        Q3 = X[column].quantile(0.75)\n",
        "        IQR = Q3 - Q1\n",
        "        lower_bound = Q1 - 1.5 * IQR\n",
        "        upper_bound = Q3 + 1.5 * IQR\n",
        "\n",
        "        median = X[column].median()\n",
        "\n",
        "        # Create a boolean mask for outliers\n",
        "        outlier_mask = (X[column] < lower_bound) | (X[column] > upper_bound)\n",
        "\n",
        "        # Replace outliers with median, maintaining the original dtype\n",
        "        if X[column].dtype == 'int64':\n",
        "            X[column] = X[column].astype('float64')\n",
        "            X[column] = X[column].where(~outlier_mask, median)\n",
        "            X[column] = X[column].astype('int64')\n",
        "        else:\n",
        "            X[column] = X[column].where(~outlier_mask, median)"
      ],
      "metadata": {
        "id": "iC6buntP3-u8"
      },
      "execution_count": null,
      "outputs": []
    },
    {
      "cell_type": "code",
      "source": [
        "X = scaler.transform(X)"
      ],
      "metadata": {
        "id": "pXgN9Jr60vpg"
      },
      "execution_count": null,
      "outputs": []
    },
    {
      "cell_type": "code",
      "source": [
        "X = pca_float.transform(X)"
      ],
      "metadata": {
        "id": "kkrwNn4ykLlX"
      },
      "execution_count": null,
      "outputs": []
    },
    {
      "cell_type": "code",
      "source": [
        "dfinaltest = xgb.DMatrix(X)"
      ],
      "metadata": {
        "id": "PsfPh1J-jVaC"
      },
      "execution_count": null,
      "outputs": []
    },
    {
      "cell_type": "code",
      "source": [
        "final_model_preds = predict_xgboost_model(\n",
        "    dfinaltest,\n",
        "    model\n",
        ")"
      ],
      "metadata": {
        "id": "BIMJ4HqNjVcv"
      },
      "execution_count": null,
      "outputs": []
    },
    {
      "cell_type": "code",
      "source": [
        "submission_df = cudf.DataFrame({'id': df_test.index, 'y': final_model_preds})"
      ],
      "metadata": {
        "id": "xEl0-JOwjVfX"
      },
      "execution_count": null,
      "outputs": []
    },
    {
      "cell_type": "code",
      "source": [
        "len(final_model_preds)"
      ],
      "metadata": {
        "colab": {
          "base_uri": "https://localhost:8080/"
        },
        "id": "MmeTPlykjVh4",
        "outputId": "da7aed1f-ff98-444a-eed3-31132b248997"
      },
      "execution_count": null,
      "outputs": [
        {
          "output_type": "execute_result",
          "data": {
            "text/plain": [
              "1000000"
            ]
          },
          "metadata": {},
          "execution_count": 26
        }
      ]
    },
    {
      "cell_type": "code",
      "source": [
        "len(df_test)"
      ],
      "metadata": {
        "colab": {
          "base_uri": "https://localhost:8080/"
        },
        "id": "_WBauT65jVkZ",
        "outputId": "b56d8406-b58c-4a05-846f-53a4ceddf07d"
      },
      "execution_count": null,
      "outputs": [
        {
          "output_type": "execute_result",
          "data": {
            "text/plain": [
              "1000000"
            ]
          },
          "metadata": {},
          "execution_count": 27
        }
      ]
    },
    {
      "cell_type": "code",
      "source": [
        "submission_df.head()"
      ],
      "metadata": {
        "colab": {
          "base_uri": "https://localhost:8080/",
          "height": 206
        },
        "id": "DKVHtxTwjVnS",
        "outputId": "fcb6484b-5d5d-4f89-b77c-002f8f9f659c"
      },
      "execution_count": null,
      "outputs": [
        {
          "output_type": "execute_result",
          "data": {
            "text/plain": [
              "         id        y\n",
              "0  12000000  42119.0\n",
              "1  12000001  42348.0\n",
              "2  12000002  42468.0\n",
              "3  12000003  42187.0\n",
              "4  12000004  42460.0"
            ],
            "text/html": [
              "<div>\n",
              "<style scoped>\n",
              "    .dataframe tbody tr th:only-of-type {\n",
              "        vertical-align: middle;\n",
              "    }\n",
              "\n",
              "    .dataframe tbody tr th {\n",
              "        vertical-align: top;\n",
              "    }\n",
              "\n",
              "    .dataframe thead th {\n",
              "        text-align: right;\n",
              "    }\n",
              "</style>\n",
              "<table border=\"1\" class=\"dataframe\">\n",
              "  <thead>\n",
              "    <tr style=\"text-align: right;\">\n",
              "      <th></th>\n",
              "      <th>id</th>\n",
              "      <th>y</th>\n",
              "    </tr>\n",
              "  </thead>\n",
              "  <tbody>\n",
              "    <tr>\n",
              "      <th>0</th>\n",
              "      <td>12000000</td>\n",
              "      <td>42119.0</td>\n",
              "    </tr>\n",
              "    <tr>\n",
              "      <th>1</th>\n",
              "      <td>12000001</td>\n",
              "      <td>42348.0</td>\n",
              "    </tr>\n",
              "    <tr>\n",
              "      <th>2</th>\n",
              "      <td>12000002</td>\n",
              "      <td>42468.0</td>\n",
              "    </tr>\n",
              "    <tr>\n",
              "      <th>3</th>\n",
              "      <td>12000003</td>\n",
              "      <td>42187.0</td>\n",
              "    </tr>\n",
              "    <tr>\n",
              "      <th>4</th>\n",
              "      <td>12000004</td>\n",
              "      <td>42460.0</td>\n",
              "    </tr>\n",
              "  </tbody>\n",
              "</table>\n",
              "</div>"
            ]
          },
          "metadata": {},
          "execution_count": 31
        }
      ]
    },
    {
      "cell_type": "code",
      "source": [
        "submission_df.to_csv(\"submission.csv\", index=False)"
      ],
      "metadata": {
        "id": "AtiuolyXjVpu"
      },
      "execution_count": null,
      "outputs": []
    },
    {
      "cell_type": "code",
      "source": [],
      "metadata": {
        "id": "ilcoWfE1vZh5"
      },
      "execution_count": null,
      "outputs": []
    },
    {
      "cell_type": "markdown",
      "source": [
        "#SVD"
      ],
      "metadata": {
        "id": "jiJXq4d_va4O"
      }
    },
    {
      "cell_type": "code",
      "source": [
        "import cudf\n",
        "from cuml import make_regression, train_test_split\n",
        "from cuml.linear_model import LinearRegression as cuLinearRegression\n",
        "from cuml.metrics.regression import r2_score\n",
        "from sklearn.linear_model import LinearRegression as skLinearRegression"
      ],
      "metadata": {
        "id": "04Z5tzVYvZk6"
      },
      "execution_count": null,
      "outputs": []
    },
    {
      "cell_type": "code",
      "source": [
        "n_samples = 11000000 #If you are running on a GPU with less than 16GB RAM, please change to 2**19 or you could run out of memory\n",
        "n_features = 96\n",
        "\n",
        "random_state = 42\n",
        "\n"
      ],
      "metadata": {
        "id": "zc5OK3u-vZol"
      },
      "execution_count": null,
      "outputs": []
    },
    {
      "cell_type": "code",
      "source": [
        "ols_cuml = cuLinearRegression(fit_intercept=True,\n",
        "                              algorithm='eig')\n",
        "\n",
        "ols_cuml.fit(X_train, y_train)"
      ],
      "metadata": {
        "colab": {
          "base_uri": "https://localhost:8080/",
          "height": 80
        },
        "id": "aaKUrXvgvZsA",
        "outputId": "2219a4ee-b57a-4dc3-8dc5-7988f71d1c45"
      },
      "execution_count": null,
      "outputs": [
        {
          "output_type": "execute_result",
          "data": {
            "text/plain": [
              "LinearRegression()"
            ],
            "text/html": [
              "<style>#sk-container-id-1 {\n",
              "  /* Definition of color scheme common for light and dark mode */\n",
              "  --sklearn-color-text: black;\n",
              "  --sklearn-color-line: gray;\n",
              "  /* Definition of color scheme for unfitted estimators */\n",
              "  --sklearn-color-unfitted-level-0: #fff5e6;\n",
              "  --sklearn-color-unfitted-level-1: #f6e4d2;\n",
              "  --sklearn-color-unfitted-level-2: #ffe0b3;\n",
              "  --sklearn-color-unfitted-level-3: chocolate;\n",
              "  /* Definition of color scheme for fitted estimators */\n",
              "  --sklearn-color-fitted-level-0: #f0f8ff;\n",
              "  --sklearn-color-fitted-level-1: #d4ebff;\n",
              "  --sklearn-color-fitted-level-2: #b3dbfd;\n",
              "  --sklearn-color-fitted-level-3: cornflowerblue;\n",
              "\n",
              "  /* Specific color for light theme */\n",
              "  --sklearn-color-text-on-default-background: var(--sg-text-color, var(--theme-code-foreground, var(--jp-content-font-color1, black)));\n",
              "  --sklearn-color-background: var(--sg-background-color, var(--theme-background, var(--jp-layout-color0, white)));\n",
              "  --sklearn-color-border-box: var(--sg-text-color, var(--theme-code-foreground, var(--jp-content-font-color1, black)));\n",
              "  --sklearn-color-icon: #696969;\n",
              "\n",
              "  @media (prefers-color-scheme: dark) {\n",
              "    /* Redefinition of color scheme for dark theme */\n",
              "    --sklearn-color-text-on-default-background: var(--sg-text-color, var(--theme-code-foreground, var(--jp-content-font-color1, white)));\n",
              "    --sklearn-color-background: var(--sg-background-color, var(--theme-background, var(--jp-layout-color0, #111)));\n",
              "    --sklearn-color-border-box: var(--sg-text-color, var(--theme-code-foreground, var(--jp-content-font-color1, white)));\n",
              "    --sklearn-color-icon: #878787;\n",
              "  }\n",
              "}\n",
              "\n",
              "#sk-container-id-1 {\n",
              "  color: var(--sklearn-color-text);\n",
              "}\n",
              "\n",
              "#sk-container-id-1 pre {\n",
              "  padding: 0;\n",
              "}\n",
              "\n",
              "#sk-container-id-1 input.sk-hidden--visually {\n",
              "  border: 0;\n",
              "  clip: rect(1px 1px 1px 1px);\n",
              "  clip: rect(1px, 1px, 1px, 1px);\n",
              "  height: 1px;\n",
              "  margin: -1px;\n",
              "  overflow: hidden;\n",
              "  padding: 0;\n",
              "  position: absolute;\n",
              "  width: 1px;\n",
              "}\n",
              "\n",
              "#sk-container-id-1 div.sk-dashed-wrapped {\n",
              "  border: 1px dashed var(--sklearn-color-line);\n",
              "  margin: 0 0.4em 0.5em 0.4em;\n",
              "  box-sizing: border-box;\n",
              "  padding-bottom: 0.4em;\n",
              "  background-color: var(--sklearn-color-background);\n",
              "}\n",
              "\n",
              "#sk-container-id-1 div.sk-container {\n",
              "  /* jupyter's `normalize.less` sets `[hidden] { display: none; }`\n",
              "     but bootstrap.min.css set `[hidden] { display: none !important; }`\n",
              "     so we also need the `!important` here to be able to override the\n",
              "     default hidden behavior on the sphinx rendered scikit-learn.org.\n",
              "     See: https://github.com/scikit-learn/scikit-learn/issues/21755 */\n",
              "  display: inline-block !important;\n",
              "  position: relative;\n",
              "}\n",
              "\n",
              "#sk-container-id-1 div.sk-text-repr-fallback {\n",
              "  display: none;\n",
              "}\n",
              "\n",
              "div.sk-parallel-item,\n",
              "div.sk-serial,\n",
              "div.sk-item {\n",
              "  /* draw centered vertical line to link estimators */\n",
              "  background-image: linear-gradient(var(--sklearn-color-text-on-default-background), var(--sklearn-color-text-on-default-background));\n",
              "  background-size: 2px 100%;\n",
              "  background-repeat: no-repeat;\n",
              "  background-position: center center;\n",
              "}\n",
              "\n",
              "/* Parallel-specific style estimator block */\n",
              "\n",
              "#sk-container-id-1 div.sk-parallel-item::after {\n",
              "  content: \"\";\n",
              "  width: 100%;\n",
              "  border-bottom: 2px solid var(--sklearn-color-text-on-default-background);\n",
              "  flex-grow: 1;\n",
              "}\n",
              "\n",
              "#sk-container-id-1 div.sk-parallel {\n",
              "  display: flex;\n",
              "  align-items: stretch;\n",
              "  justify-content: center;\n",
              "  background-color: var(--sklearn-color-background);\n",
              "  position: relative;\n",
              "}\n",
              "\n",
              "#sk-container-id-1 div.sk-parallel-item {\n",
              "  display: flex;\n",
              "  flex-direction: column;\n",
              "}\n",
              "\n",
              "#sk-container-id-1 div.sk-parallel-item:first-child::after {\n",
              "  align-self: flex-end;\n",
              "  width: 50%;\n",
              "}\n",
              "\n",
              "#sk-container-id-1 div.sk-parallel-item:last-child::after {\n",
              "  align-self: flex-start;\n",
              "  width: 50%;\n",
              "}\n",
              "\n",
              "#sk-container-id-1 div.sk-parallel-item:only-child::after {\n",
              "  width: 0;\n",
              "}\n",
              "\n",
              "/* Serial-specific style estimator block */\n",
              "\n",
              "#sk-container-id-1 div.sk-serial {\n",
              "  display: flex;\n",
              "  flex-direction: column;\n",
              "  align-items: center;\n",
              "  background-color: var(--sklearn-color-background);\n",
              "  padding-right: 1em;\n",
              "  padding-left: 1em;\n",
              "}\n",
              "\n",
              "\n",
              "/* Toggleable style: style used for estimator/Pipeline/ColumnTransformer box that is\n",
              "clickable and can be expanded/collapsed.\n",
              "- Pipeline and ColumnTransformer use this feature and define the default style\n",
              "- Estimators will overwrite some part of the style using the `sk-estimator` class\n",
              "*/\n",
              "\n",
              "/* Pipeline and ColumnTransformer style (default) */\n",
              "\n",
              "#sk-container-id-1 div.sk-toggleable {\n",
              "  /* Default theme specific background. It is overwritten whether we have a\n",
              "  specific estimator or a Pipeline/ColumnTransformer */\n",
              "  background-color: var(--sklearn-color-background);\n",
              "}\n",
              "\n",
              "/* Toggleable label */\n",
              "#sk-container-id-1 label.sk-toggleable__label {\n",
              "  cursor: pointer;\n",
              "  display: block;\n",
              "  width: 100%;\n",
              "  margin-bottom: 0;\n",
              "  padding: 0.5em;\n",
              "  box-sizing: border-box;\n",
              "  text-align: center;\n",
              "}\n",
              "\n",
              "#sk-container-id-1 label.sk-toggleable__label-arrow:before {\n",
              "  /* Arrow on the left of the label */\n",
              "  content: \"▸\";\n",
              "  float: left;\n",
              "  margin-right: 0.25em;\n",
              "  color: var(--sklearn-color-icon);\n",
              "}\n",
              "\n",
              "#sk-container-id-1 label.sk-toggleable__label-arrow:hover:before {\n",
              "  color: var(--sklearn-color-text);\n",
              "}\n",
              "\n",
              "/* Toggleable content - dropdown */\n",
              "\n",
              "#sk-container-id-1 div.sk-toggleable__content {\n",
              "  max-height: 0;\n",
              "  max-width: 0;\n",
              "  overflow: hidden;\n",
              "  text-align: left;\n",
              "  /* unfitted */\n",
              "  background-color: var(--sklearn-color-unfitted-level-0);\n",
              "}\n",
              "\n",
              "#sk-container-id-1 div.sk-toggleable__content.fitted {\n",
              "  /* fitted */\n",
              "  background-color: var(--sklearn-color-fitted-level-0);\n",
              "}\n",
              "\n",
              "#sk-container-id-1 div.sk-toggleable__content pre {\n",
              "  margin: 0.2em;\n",
              "  border-radius: 0.25em;\n",
              "  color: var(--sklearn-color-text);\n",
              "  /* unfitted */\n",
              "  background-color: var(--sklearn-color-unfitted-level-0);\n",
              "}\n",
              "\n",
              "#sk-container-id-1 div.sk-toggleable__content.fitted pre {\n",
              "  /* unfitted */\n",
              "  background-color: var(--sklearn-color-fitted-level-0);\n",
              "}\n",
              "\n",
              "#sk-container-id-1 input.sk-toggleable__control:checked~div.sk-toggleable__content {\n",
              "  /* Expand drop-down */\n",
              "  max-height: 200px;\n",
              "  max-width: 100%;\n",
              "  overflow: auto;\n",
              "}\n",
              "\n",
              "#sk-container-id-1 input.sk-toggleable__control:checked~label.sk-toggleable__label-arrow:before {\n",
              "  content: \"▾\";\n",
              "}\n",
              "\n",
              "/* Pipeline/ColumnTransformer-specific style */\n",
              "\n",
              "#sk-container-id-1 div.sk-label input.sk-toggleable__control:checked~label.sk-toggleable__label {\n",
              "  color: var(--sklearn-color-text);\n",
              "  background-color: var(--sklearn-color-unfitted-level-2);\n",
              "}\n",
              "\n",
              "#sk-container-id-1 div.sk-label.fitted input.sk-toggleable__control:checked~label.sk-toggleable__label {\n",
              "  background-color: var(--sklearn-color-fitted-level-2);\n",
              "}\n",
              "\n",
              "/* Estimator-specific style */\n",
              "\n",
              "/* Colorize estimator box */\n",
              "#sk-container-id-1 div.sk-estimator input.sk-toggleable__control:checked~label.sk-toggleable__label {\n",
              "  /* unfitted */\n",
              "  background-color: var(--sklearn-color-unfitted-level-2);\n",
              "}\n",
              "\n",
              "#sk-container-id-1 div.sk-estimator.fitted input.sk-toggleable__control:checked~label.sk-toggleable__label {\n",
              "  /* fitted */\n",
              "  background-color: var(--sklearn-color-fitted-level-2);\n",
              "}\n",
              "\n",
              "#sk-container-id-1 div.sk-label label.sk-toggleable__label,\n",
              "#sk-container-id-1 div.sk-label label {\n",
              "  /* The background is the default theme color */\n",
              "  color: var(--sklearn-color-text-on-default-background);\n",
              "}\n",
              "\n",
              "/* On hover, darken the color of the background */\n",
              "#sk-container-id-1 div.sk-label:hover label.sk-toggleable__label {\n",
              "  color: var(--sklearn-color-text);\n",
              "  background-color: var(--sklearn-color-unfitted-level-2);\n",
              "}\n",
              "\n",
              "/* Label box, darken color on hover, fitted */\n",
              "#sk-container-id-1 div.sk-label.fitted:hover label.sk-toggleable__label.fitted {\n",
              "  color: var(--sklearn-color-text);\n",
              "  background-color: var(--sklearn-color-fitted-level-2);\n",
              "}\n",
              "\n",
              "/* Estimator label */\n",
              "\n",
              "#sk-container-id-1 div.sk-label label {\n",
              "  font-family: monospace;\n",
              "  font-weight: bold;\n",
              "  display: inline-block;\n",
              "  line-height: 1.2em;\n",
              "}\n",
              "\n",
              "#sk-container-id-1 div.sk-label-container {\n",
              "  text-align: center;\n",
              "}\n",
              "\n",
              "/* Estimator-specific */\n",
              "#sk-container-id-1 div.sk-estimator {\n",
              "  font-family: monospace;\n",
              "  border: 1px dotted var(--sklearn-color-border-box);\n",
              "  border-radius: 0.25em;\n",
              "  box-sizing: border-box;\n",
              "  margin-bottom: 0.5em;\n",
              "  /* unfitted */\n",
              "  background-color: var(--sklearn-color-unfitted-level-0);\n",
              "}\n",
              "\n",
              "#sk-container-id-1 div.sk-estimator.fitted {\n",
              "  /* fitted */\n",
              "  background-color: var(--sklearn-color-fitted-level-0);\n",
              "}\n",
              "\n",
              "/* on hover */\n",
              "#sk-container-id-1 div.sk-estimator:hover {\n",
              "  /* unfitted */\n",
              "  background-color: var(--sklearn-color-unfitted-level-2);\n",
              "}\n",
              "\n",
              "#sk-container-id-1 div.sk-estimator.fitted:hover {\n",
              "  /* fitted */\n",
              "  background-color: var(--sklearn-color-fitted-level-2);\n",
              "}\n",
              "\n",
              "/* Specification for estimator info (e.g. \"i\" and \"?\") */\n",
              "\n",
              "/* Common style for \"i\" and \"?\" */\n",
              "\n",
              ".sk-estimator-doc-link,\n",
              "a:link.sk-estimator-doc-link,\n",
              "a:visited.sk-estimator-doc-link {\n",
              "  float: right;\n",
              "  font-size: smaller;\n",
              "  line-height: 1em;\n",
              "  font-family: monospace;\n",
              "  background-color: var(--sklearn-color-background);\n",
              "  border-radius: 1em;\n",
              "  height: 1em;\n",
              "  width: 1em;\n",
              "  text-decoration: none !important;\n",
              "  margin-left: 1ex;\n",
              "  /* unfitted */\n",
              "  border: var(--sklearn-color-unfitted-level-1) 1pt solid;\n",
              "  color: var(--sklearn-color-unfitted-level-1);\n",
              "}\n",
              "\n",
              ".sk-estimator-doc-link.fitted,\n",
              "a:link.sk-estimator-doc-link.fitted,\n",
              "a:visited.sk-estimator-doc-link.fitted {\n",
              "  /* fitted */\n",
              "  border: var(--sklearn-color-fitted-level-1) 1pt solid;\n",
              "  color: var(--sklearn-color-fitted-level-1);\n",
              "}\n",
              "\n",
              "/* On hover */\n",
              "div.sk-estimator:hover .sk-estimator-doc-link:hover,\n",
              ".sk-estimator-doc-link:hover,\n",
              "div.sk-label-container:hover .sk-estimator-doc-link:hover,\n",
              ".sk-estimator-doc-link:hover {\n",
              "  /* unfitted */\n",
              "  background-color: var(--sklearn-color-unfitted-level-3);\n",
              "  color: var(--sklearn-color-background);\n",
              "  text-decoration: none;\n",
              "}\n",
              "\n",
              "div.sk-estimator.fitted:hover .sk-estimator-doc-link.fitted:hover,\n",
              ".sk-estimator-doc-link.fitted:hover,\n",
              "div.sk-label-container:hover .sk-estimator-doc-link.fitted:hover,\n",
              ".sk-estimator-doc-link.fitted:hover {\n",
              "  /* fitted */\n",
              "  background-color: var(--sklearn-color-fitted-level-3);\n",
              "  color: var(--sklearn-color-background);\n",
              "  text-decoration: none;\n",
              "}\n",
              "\n",
              "/* Span, style for the box shown on hovering the info icon */\n",
              ".sk-estimator-doc-link span {\n",
              "  display: none;\n",
              "  z-index: 9999;\n",
              "  position: relative;\n",
              "  font-weight: normal;\n",
              "  right: .2ex;\n",
              "  padding: .5ex;\n",
              "  margin: .5ex;\n",
              "  width: min-content;\n",
              "  min-width: 20ex;\n",
              "  max-width: 50ex;\n",
              "  color: var(--sklearn-color-text);\n",
              "  box-shadow: 2pt 2pt 4pt #999;\n",
              "  /* unfitted */\n",
              "  background: var(--sklearn-color-unfitted-level-0);\n",
              "  border: .5pt solid var(--sklearn-color-unfitted-level-3);\n",
              "}\n",
              "\n",
              ".sk-estimator-doc-link.fitted span {\n",
              "  /* fitted */\n",
              "  background: var(--sklearn-color-fitted-level-0);\n",
              "  border: var(--sklearn-color-fitted-level-3);\n",
              "}\n",
              "\n",
              ".sk-estimator-doc-link:hover span {\n",
              "  display: block;\n",
              "}\n",
              "\n",
              "/* \"?\"-specific style due to the `<a>` HTML tag */\n",
              "\n",
              "#sk-container-id-1 a.estimator_doc_link {\n",
              "  float: right;\n",
              "  font-size: 1rem;\n",
              "  line-height: 1em;\n",
              "  font-family: monospace;\n",
              "  background-color: var(--sklearn-color-background);\n",
              "  border-radius: 1rem;\n",
              "  height: 1rem;\n",
              "  width: 1rem;\n",
              "  text-decoration: none;\n",
              "  /* unfitted */\n",
              "  color: var(--sklearn-color-unfitted-level-1);\n",
              "  border: var(--sklearn-color-unfitted-level-1) 1pt solid;\n",
              "}\n",
              "\n",
              "#sk-container-id-1 a.estimator_doc_link.fitted {\n",
              "  /* fitted */\n",
              "  border: var(--sklearn-color-fitted-level-1) 1pt solid;\n",
              "  color: var(--sklearn-color-fitted-level-1);\n",
              "}\n",
              "\n",
              "/* On hover */\n",
              "#sk-container-id-1 a.estimator_doc_link:hover {\n",
              "  /* unfitted */\n",
              "  background-color: var(--sklearn-color-unfitted-level-3);\n",
              "  color: var(--sklearn-color-background);\n",
              "  text-decoration: none;\n",
              "}\n",
              "\n",
              "#sk-container-id-1 a.estimator_doc_link.fitted:hover {\n",
              "  /* fitted */\n",
              "  background-color: var(--sklearn-color-fitted-level-3);\n",
              "}\n",
              "</style><div id=\"sk-container-id-1\" class=\"sk-top-container\"><div class=\"sk-text-repr-fallback\"><pre>LinearRegression()</pre><b>In a Jupyter environment, please rerun this cell to show the HTML representation or trust the notebook. <br />On GitHub, the HTML representation is unable to render, please try loading this page with nbviewer.org.</b></div><div class=\"sk-container\" hidden><div class=\"sk-item\"><div class=\"sk-estimator fitted sk-toggleable\"><input class=\"sk-toggleable__control sk-hidden--visually\" id=\"sk-estimator-id-1\" type=\"checkbox\" checked><label for=\"sk-estimator-id-1\" class=\"sk-toggleable__label fitted sk-toggleable__label-arrow fitted\">&nbsp;LinearRegression<span class=\"sk-estimator-doc-link fitted\">i<span>Fitted</span></span></label><div class=\"sk-toggleable__content fitted\"><pre>LinearRegression()</pre></div> </div></div></div></div>"
            ]
          },
          "metadata": {},
          "execution_count": 17
        }
      ]
    },
    {
      "cell_type": "code",
      "source": [
        "predict_cuml = ols_cuml.predict(X_test)"
      ],
      "metadata": {
        "id": "sbY4ct8MvZvE"
      },
      "execution_count": null,
      "outputs": []
    },
    {
      "cell_type": "code",
      "source": [
        "predict_cuml"
      ],
      "metadata": {
        "colab": {
          "base_uri": "https://localhost:8080/"
        },
        "id": "9o7ffljvvZyL",
        "outputId": "8b4d2a60-3ad4-46ff-bd33-7e07ec6620f5"
      },
      "execution_count": null,
      "outputs": [
        {
          "output_type": "execute_result",
          "data": {
            "text/plain": [
              "0          154.792058\n",
              "1          -92.427271\n",
              "2          170.879904\n",
              "3         -101.685296\n",
              "4         -210.103041\n",
              "              ...    \n",
              "3629995    188.546089\n",
              "3629996    -77.905501\n",
              "3629997    117.191685\n",
              "3629998   -192.827683\n",
              "3629999     17.790224\n",
              "Length: 3630000, dtype: float64"
            ]
          },
          "metadata": {},
          "execution_count": 19
        }
      ]
    },
    {
      "cell_type": "code",
      "source": [
        "from cuml.linear_model import MBSGDRegressor as cumlMBSGDRegressor"
      ],
      "metadata": {
        "id": "gMJ8H4b5vZ05"
      },
      "execution_count": null,
      "outputs": []
    },
    {
      "cell_type": "code",
      "source": [
        "cu_mbsgd_regressor = cumlMBSGDRegressor(learning_rate='adaptive',\n",
        "                                        eta0=0.1, epochs=2000,\n",
        "                                        fit_intercept=False,\n",
        "                                        batch_size=128, tol=50.0,\n",
        "                                        penalty='elasticnet',\n",
        "                                        loss='squared_loss',\n",
        "                                        l1_ratio=0.5,verbose=20,shuffle=True,\n",
        "                                        alpha=0.5)"
      ],
      "metadata": {
        "id": "o62sjWaRvZ4O"
      },
      "execution_count": null,
      "outputs": []
    },
    {
      "cell_type": "code",
      "source": [
        "cu_mbsgd_regressor.fit(X_train, y_train)"
      ],
      "metadata": {
        "id": "bhpWWd9nvZ8k"
      },
      "execution_count": null,
      "outputs": []
    },
    {
      "cell_type": "markdown",
      "source": [
        "#DUMMY"
      ],
      "metadata": {
        "id": "ssMHxEfucXSz"
      }
    },
    {
      "cell_type": "code",
      "source": [
        "mean_dict={}\n",
        "negative_count_dict={}\n",
        "for col in df.columns:\n",
        "  if type(df[col]) == int:\n",
        "    mean_dict[col] = df[col].mean()\n",
        "\n"
      ],
      "metadata": {
        "id": "6dO-t7kygGUv"
      },
      "execution_count": null,
      "outputs": []
    },
    {
      "cell_type": "code",
      "source": [
        "count_negative_one = (df['celebrate'] == -1).sum()\n",
        "count_negative_one"
      ],
      "metadata": {
        "colab": {
          "base_uri": "https://localhost:8080/"
        },
        "id": "ReDz0eOCf0vU",
        "outputId": "71a7baf5-763b-4889-a483-c2e14f7ee00c"
      },
      "execution_count": null,
      "outputs": [
        {
          "output_type": "execute_result",
          "data": {
            "text/plain": [
              "0"
            ]
          },
          "metadata": {},
          "execution_count": 41
        }
      ]
    },
    {
      "cell_type": "code",
      "source": [
        "less10 = (df['celebrate'] < 50).sum()\n",
        "less10"
      ],
      "metadata": {
        "colab": {
          "base_uri": "https://localhost:8080/"
        },
        "id": "ua1bz0fCsbPa",
        "outputId": "6fa02ff5-e1ea-43df-bdc6-d318c9e4d9d2"
      },
      "execution_count": null,
      "outputs": [
        {
          "output_type": "execute_result",
          "data": {
            "text/plain": [
              "1198"
            ]
          },
          "metadata": {},
          "execution_count": 42
        }
      ]
    },
    {
      "cell_type": "code",
      "source": [
        "df['celebrate'].mean()"
      ],
      "metadata": {
        "colab": {
          "base_uri": "https://localhost:8080/"
        },
        "id": "po83zV3XsyZ7",
        "outputId": "ee53131a-509d-4979-bd0e-143343445d2f"
      },
      "execution_count": null,
      "outputs": [
        {
          "output_type": "execute_result",
          "data": {
            "text/plain": [
              "19554.713143"
            ]
          },
          "metadata": {},
          "execution_count": 43
        }
      ]
    },
    {
      "cell_type": "code",
      "source": [
        "len(df)"
      ],
      "metadata": {
        "colab": {
          "base_uri": "https://localhost:8080/"
        },
        "id": "TlVaUlgioNtk",
        "outputId": "7429ab3b-5427-4216-df0f-a83fd9601f2f"
      },
      "execution_count": null,
      "outputs": [
        {
          "output_type": "execute_result",
          "data": {
            "text/plain": [
              "1000000"
            ]
          },
          "metadata": {},
          "execution_count": 44
        }
      ]
    },
    {
      "cell_type": "code",
      "source": [
        "cnts = df['trickortreat'].value_counts()\n",
        "cnts"
      ],
      "metadata": {
        "colab": {
          "base_uri": "https://localhost:8080/",
          "height": 304
        },
        "id": "rrzVFSqXVKDo",
        "outputId": "d7525cba-3d40-4eef-de4d-92006bc2a958"
      },
      "execution_count": null,
      "outputs": [
        {
          "output_type": "error",
          "ename": "KeyError",
          "evalue": "'trickortreat'",
          "traceback": [
            "\u001b[0;31m---------------------------------------------------------------------------\u001b[0m",
            "\u001b[0;31mKeyError\u001b[0m                                  Traceback (most recent call last)",
            "\u001b[0;32m<ipython-input-45-9ab2a3c4933c>\u001b[0m in \u001b[0;36m<cell line: 1>\u001b[0;34m()\u001b[0m\n\u001b[0;32m----> 1\u001b[0;31m \u001b[0mcnts\u001b[0m \u001b[0;34m=\u001b[0m \u001b[0mdf\u001b[0m\u001b[0;34m[\u001b[0m\u001b[0;34m'trickortreat'\u001b[0m\u001b[0;34m]\u001b[0m\u001b[0;34m.\u001b[0m\u001b[0mvalue_counts\u001b[0m\u001b[0;34m(\u001b[0m\u001b[0;34m)\u001b[0m\u001b[0;34m\u001b[0m\u001b[0;34m\u001b[0m\u001b[0m\n\u001b[0m\u001b[1;32m      2\u001b[0m \u001b[0mcnts\u001b[0m\u001b[0;34m\u001b[0m\u001b[0;34m\u001b[0m\u001b[0m\n",
            "\u001b[0;32m/usr/local/lib/python3.10/dist-packages/cudf/utils/performance_tracking.py\u001b[0m in \u001b[0;36mwrapper\u001b[0;34m(*args, **kwargs)\u001b[0m\n\u001b[1;32m     49\u001b[0m                     )\n\u001b[1;32m     50\u001b[0m                 )\n\u001b[0;32m---> 51\u001b[0;31m             \u001b[0;32mreturn\u001b[0m \u001b[0mfunc\u001b[0m\u001b[0;34m(\u001b[0m\u001b[0;34m*\u001b[0m\u001b[0margs\u001b[0m\u001b[0;34m,\u001b[0m \u001b[0;34m**\u001b[0m\u001b[0mkwargs\u001b[0m\u001b[0;34m)\u001b[0m\u001b[0;34m\u001b[0m\u001b[0;34m\u001b[0m\u001b[0m\n\u001b[0m\u001b[1;32m     52\u001b[0m \u001b[0;34m\u001b[0m\u001b[0m\n\u001b[1;32m     53\u001b[0m     \u001b[0;32mreturn\u001b[0m \u001b[0mwrapper\u001b[0m\u001b[0;34m\u001b[0m\u001b[0;34m\u001b[0m\u001b[0m\n",
            "\u001b[0;32m/usr/local/lib/python3.10/dist-packages/cudf/core/dataframe.py\u001b[0m in \u001b[0;36m__getitem__\u001b[0;34m(self, arg)\u001b[0m\n\u001b[1;32m   1345\u001b[0m         \"\"\"\n\u001b[1;32m   1346\u001b[0m         \u001b[0;32mif\u001b[0m \u001b[0m_is_scalar_or_zero_d_array\u001b[0m\u001b[0;34m(\u001b[0m\u001b[0marg\u001b[0m\u001b[0;34m)\u001b[0m \u001b[0;32mor\u001b[0m \u001b[0misinstance\u001b[0m\u001b[0;34m(\u001b[0m\u001b[0marg\u001b[0m\u001b[0;34m,\u001b[0m \u001b[0mtuple\u001b[0m\u001b[0;34m)\u001b[0m\u001b[0;34m:\u001b[0m\u001b[0;34m\u001b[0m\u001b[0;34m\u001b[0m\u001b[0m\n\u001b[0;32m-> 1347\u001b[0;31m             \u001b[0mout\u001b[0m \u001b[0;34m=\u001b[0m \u001b[0mself\u001b[0m\u001b[0;34m.\u001b[0m\u001b[0m_get_columns_by_label\u001b[0m\u001b[0;34m(\u001b[0m\u001b[0marg\u001b[0m\u001b[0;34m)\u001b[0m\u001b[0;34m\u001b[0m\u001b[0;34m\u001b[0m\u001b[0m\n\u001b[0m\u001b[1;32m   1348\u001b[0m             \u001b[0;32mif\u001b[0m \u001b[0mis_scalar\u001b[0m\u001b[0;34m(\u001b[0m\u001b[0marg\u001b[0m\u001b[0;34m)\u001b[0m\u001b[0;34m:\u001b[0m\u001b[0;34m\u001b[0m\u001b[0;34m\u001b[0m\u001b[0m\n\u001b[1;32m   1349\u001b[0m                 \u001b[0mnlevels\u001b[0m \u001b[0;34m=\u001b[0m \u001b[0;36m1\u001b[0m\u001b[0;34m\u001b[0m\u001b[0;34m\u001b[0m\u001b[0m\n",
            "\u001b[0;32m/usr/local/lib/python3.10/dist-packages/cudf/utils/performance_tracking.py\u001b[0m in \u001b[0;36mwrapper\u001b[0;34m(*args, **kwargs)\u001b[0m\n\u001b[1;32m     49\u001b[0m                     )\n\u001b[1;32m     50\u001b[0m                 )\n\u001b[0;32m---> 51\u001b[0;31m             \u001b[0;32mreturn\u001b[0m \u001b[0mfunc\u001b[0m\u001b[0;34m(\u001b[0m\u001b[0;34m*\u001b[0m\u001b[0margs\u001b[0m\u001b[0;34m,\u001b[0m \u001b[0;34m**\u001b[0m\u001b[0mkwargs\u001b[0m\u001b[0;34m)\u001b[0m\u001b[0;34m\u001b[0m\u001b[0;34m\u001b[0m\u001b[0m\n\u001b[0m\u001b[1;32m     52\u001b[0m \u001b[0;34m\u001b[0m\u001b[0m\n\u001b[1;32m     53\u001b[0m     \u001b[0;32mreturn\u001b[0m \u001b[0mwrapper\u001b[0m\u001b[0;34m\u001b[0m\u001b[0;34m\u001b[0m\u001b[0m\n",
            "\u001b[0;32m/usr/local/lib/python3.10/dist-packages/cudf/core/frame.py\u001b[0m in \u001b[0;36m_get_columns_by_label\u001b[0;34m(self, labels)\u001b[0m\n\u001b[1;32m    356\u001b[0m         \u001b[0mAkin\u001b[0m \u001b[0mto\u001b[0m \u001b[0mcudf\u001b[0m\u001b[0;34m.\u001b[0m\u001b[0mDataFrame\u001b[0m\u001b[0;34m(\u001b[0m\u001b[0;34m...\u001b[0m\u001b[0;34m)\u001b[0m\u001b[0;34m.\u001b[0m\u001b[0mloc\u001b[0m\u001b[0;34m[\u001b[0m\u001b[0;34m:\u001b[0m\u001b[0;34m,\u001b[0m \u001b[0mlabels\u001b[0m\u001b[0;34m]\u001b[0m\u001b[0;34m\u001b[0m\u001b[0;34m\u001b[0m\u001b[0m\n\u001b[1;32m    357\u001b[0m         \"\"\"\n\u001b[0;32m--> 358\u001b[0;31m         \u001b[0;32mreturn\u001b[0m \u001b[0mself\u001b[0m\u001b[0;34m.\u001b[0m\u001b[0m_from_data_like_self\u001b[0m\u001b[0;34m(\u001b[0m\u001b[0mself\u001b[0m\u001b[0;34m.\u001b[0m\u001b[0m_data\u001b[0m\u001b[0;34m.\u001b[0m\u001b[0mselect_by_label\u001b[0m\u001b[0;34m(\u001b[0m\u001b[0mlabels\u001b[0m\u001b[0;34m)\u001b[0m\u001b[0;34m)\u001b[0m\u001b[0;34m\u001b[0m\u001b[0;34m\u001b[0m\u001b[0m\n\u001b[0m\u001b[1;32m    359\u001b[0m \u001b[0;34m\u001b[0m\u001b[0m\n\u001b[1;32m    360\u001b[0m     \u001b[0;34m@\u001b[0m\u001b[0mproperty\u001b[0m\u001b[0;34m\u001b[0m\u001b[0;34m\u001b[0m\u001b[0m\n",
            "\u001b[0;32m/usr/local/lib/python3.10/dist-packages/cudf/core/column_accessor.py\u001b[0m in \u001b[0;36mselect_by_label\u001b[0;34m(self, key)\u001b[0m\n\u001b[1;32m    399\u001b[0m                 \u001b[0;32mif\u001b[0m \u001b[0many\u001b[0m\u001b[0;34m(\u001b[0m\u001b[0misinstance\u001b[0m\u001b[0;34m(\u001b[0m\u001b[0mk\u001b[0m\u001b[0;34m,\u001b[0m \u001b[0mslice\u001b[0m\u001b[0;34m)\u001b[0m \u001b[0;32mfor\u001b[0m \u001b[0mk\u001b[0m \u001b[0;32min\u001b[0m \u001b[0mkey\u001b[0m\u001b[0;34m)\u001b[0m\u001b[0;34m:\u001b[0m\u001b[0;34m\u001b[0m\u001b[0;34m\u001b[0m\u001b[0m\n\u001b[1;32m    400\u001b[0m                     \u001b[0;32mreturn\u001b[0m \u001b[0mself\u001b[0m\u001b[0;34m.\u001b[0m\u001b[0m_select_by_label_with_wildcard\u001b[0m\u001b[0;34m(\u001b[0m\u001b[0mkey\u001b[0m\u001b[0;34m)\u001b[0m\u001b[0;34m\u001b[0m\u001b[0;34m\u001b[0m\u001b[0m\n\u001b[0;32m--> 401\u001b[0;31m             \u001b[0;32mreturn\u001b[0m \u001b[0mself\u001b[0m\u001b[0;34m.\u001b[0m\u001b[0m_select_by_label_grouped\u001b[0m\u001b[0;34m(\u001b[0m\u001b[0mkey\u001b[0m\u001b[0;34m)\u001b[0m\u001b[0;34m\u001b[0m\u001b[0;34m\u001b[0m\u001b[0m\n\u001b[0m\u001b[1;32m    402\u001b[0m \u001b[0;34m\u001b[0m\u001b[0m\n\u001b[1;32m    403\u001b[0m     \u001b[0;32mdef\u001b[0m \u001b[0mget_labels_by_index\u001b[0m\u001b[0;34m(\u001b[0m\u001b[0mself\u001b[0m\u001b[0;34m,\u001b[0m \u001b[0mindex\u001b[0m\u001b[0;34m:\u001b[0m \u001b[0mAny\u001b[0m\u001b[0;34m)\u001b[0m \u001b[0;34m->\u001b[0m \u001b[0mtuple\u001b[0m\u001b[0;34m:\u001b[0m\u001b[0;34m\u001b[0m\u001b[0;34m\u001b[0m\u001b[0m\n",
            "\u001b[0;32m/usr/local/lib/python3.10/dist-packages/cudf/core/column_accessor.py\u001b[0m in \u001b[0;36m_select_by_label_grouped\u001b[0;34m(self, key)\u001b[0m\n\u001b[1;32m    561\u001b[0m \u001b[0;34m\u001b[0m\u001b[0m\n\u001b[1;32m    562\u001b[0m     \u001b[0;32mdef\u001b[0m \u001b[0m_select_by_label_grouped\u001b[0m\u001b[0;34m(\u001b[0m\u001b[0mself\u001b[0m\u001b[0;34m,\u001b[0m \u001b[0mkey\u001b[0m\u001b[0;34m:\u001b[0m \u001b[0mabc\u001b[0m\u001b[0;34m.\u001b[0m\u001b[0mHashable\u001b[0m\u001b[0;34m)\u001b[0m \u001b[0;34m->\u001b[0m \u001b[0mSelf\u001b[0m\u001b[0;34m:\u001b[0m\u001b[0;34m\u001b[0m\u001b[0;34m\u001b[0m\u001b[0m\n\u001b[0;32m--> 563\u001b[0;31m         \u001b[0mresult\u001b[0m \u001b[0;34m=\u001b[0m \u001b[0mself\u001b[0m\u001b[0;34m.\u001b[0m\u001b[0m_grouped_data\u001b[0m\u001b[0;34m[\u001b[0m\u001b[0mkey\u001b[0m\u001b[0;34m]\u001b[0m\u001b[0;34m\u001b[0m\u001b[0;34m\u001b[0m\u001b[0m\n\u001b[0m\u001b[1;32m    564\u001b[0m         \u001b[0;32mif\u001b[0m \u001b[0misinstance\u001b[0m\u001b[0;34m(\u001b[0m\u001b[0mresult\u001b[0m\u001b[0;34m,\u001b[0m \u001b[0mcolumn\u001b[0m\u001b[0;34m.\u001b[0m\u001b[0mColumnBase\u001b[0m\u001b[0;34m)\u001b[0m\u001b[0;34m:\u001b[0m\u001b[0;34m\u001b[0m\u001b[0;34m\u001b[0m\u001b[0m\n\u001b[1;32m    565\u001b[0m             \u001b[0;31m# self._grouped_data[key] = self._data[key] so skip validation\u001b[0m\u001b[0;34m\u001b[0m\u001b[0;34m\u001b[0m\u001b[0m\n",
            "\u001b[0;31mKeyError\u001b[0m: 'trickortreat'"
          ]
        }
      ]
    },
    {
      "cell_type": "code",
      "source": [
        "len(df['kingofhalloween'].value_counts())"
      ],
      "metadata": {
        "id": "LANrryr_WsMJ"
      },
      "execution_count": null,
      "outputs": []
    },
    {
      "cell_type": "code",
      "source": [
        "len(cnts)"
      ],
      "metadata": {
        "id": "O8P-mukZW6Ur"
      },
      "execution_count": null,
      "outputs": []
    },
    {
      "cell_type": "code",
      "source": [],
      "metadata": {
        "id": "ShuE1EeDvkQg"
      },
      "execution_count": null,
      "outputs": []
    },
    {
      "cell_type": "code",
      "source": [
        "import cudf\n",
        "import cuml\n",
        "from cuml.decomposition import PCA"
      ],
      "metadata": {
        "id": "1DtZhvr2Xw53"
      },
      "execution_count": null,
      "outputs": []
    },
    {
      "cell_type": "code",
      "source": [
        "import cudf\n",
        "print(cudf.__version__)"
      ],
      "metadata": {
        "id": "Q0JEzmnsc_Xl"
      },
      "execution_count": null,
      "outputs": []
    },
    {
      "cell_type": "code",
      "source": [],
      "metadata": {
        "id": "-8d4Ya4vdg0_"
      },
      "execution_count": null,
      "outputs": []
    },
    {
      "cell_type": "code",
      "source": [
        "!conda install -c rapidsai -c conda-forge -c nvidia rapids=24.10 python=3.10 cuda-version=12.2 xgboost"
      ],
      "metadata": {
        "id": "QnERr6YSdDyx"
      },
      "execution_count": null,
      "outputs": []
    },
    {
      "cell_type": "code",
      "source": [
        "!python --version"
      ],
      "metadata": {
        "id": "ysb_Hi6idJGw"
      },
      "execution_count": null,
      "outputs": []
    },
    {
      "cell_type": "code",
      "source": [
        "!nvidia-smi"
      ],
      "metadata": {
        "id": "B62IRER_doET"
      },
      "execution_count": null,
      "outputs": []
    },
    {
      "cell_type": "code",
      "source": [
        "!pip install cudf-cu12 cuml-cu12 --extra-index-url=https://pypi.ngc.nvidia.com"
      ],
      "metadata": {
        "id": "vj9C1BhwbL4K"
      },
      "execution_count": null,
      "outputs": []
    },
    {
      "cell_type": "code",
      "source": [
        "import cupy as cp"
      ],
      "metadata": {
        "id": "myV8LzBybObr"
      },
      "execution_count": null,
      "outputs": []
    },
    {
      "cell_type": "code",
      "source": [
        "!mkdir ~/.kaggle\n",
        "!mv kaggle.json ~/.kaggle/kaggle.json\n",
        "!chmod 600 ~/.kaggle/kaggle.json\n",
        "!kaggle competitions download -c odsc-2024-nvidia-hackathon"
      ],
      "metadata": {
        "id": "Gv-Lk9BBeh3h"
      },
      "execution_count": null,
      "outputs": []
    },
    {
      "cell_type": "code",
      "source": [
        "!unzip -q odsc-2024-nvidia-hackathon.zip"
      ],
      "metadata": {
        "id": "nOB_U2hF9VaW"
      },
      "execution_count": null,
      "outputs": []
    },
    {
      "cell_type": "code",
      "source": [
        "import cudf"
      ],
      "metadata": {
        "id": "aYRn_6L39ghy"
      },
      "execution_count": null,
      "outputs": []
    },
    {
      "cell_type": "code",
      "source": [
        "import pandas as pd"
      ],
      "metadata": {
        "id": "XPVEitvw9rFg"
      },
      "execution_count": null,
      "outputs": []
    },
    {
      "cell_type": "code",
      "source": [
        "df = pd.read_csv(\"train.csv\", nrows=1000000, index_col=\"id\")\n",
        "df = df.drop(['trickortreat', 'kingofhalloween'], axis=1)\n",
        "# view a random sample of 10 rows:\n",
        "df.sample(10)"
      ],
      "metadata": {
        "id": "NEwF4EUI9t85"
      },
      "execution_count": null,
      "outputs": []
    },
    {
      "cell_type": "code",
      "source": [],
      "metadata": {
        "id": "G8TReE8I9voP"
      },
      "execution_count": null,
      "outputs": []
    },
    {
      "cell_type": "markdown",
      "source": [
        "#Text Processing"
      ],
      "metadata": {
        "id": "9wRqFXkMUO4Q"
      }
    },
    {
      "cell_type": "code",
      "source": [
        "import re\n",
        "filters = ['!', '\"', '#', '$', '%', '&', '(', ')', '*', '+', '-', '.', '/', ':', ';', '<', '=', '>',\n",
        "           '?', '@', '[', ']', '^', '_', '`', '{', '|', '}', '~', \"'\", ',', '—']\n",
        "\n",
        "text_col_sample = df[['trickortreat']].head(5)\n",
        "text_col_sample['trickortreat'].to_pandas()\n",
        "\n",
        "pattern = '|'.join(map(re.escape, filters))\n",
        "\n",
        "text_col_sample['trickortreat_clean'] = text_col_sample['trickortreat'].str.replace(pattern, ' ', regex=True)\n",
        "text_col_sample['trickortreat_clean'] = text_col_sample['trickortreat_clean'].str.lower()\n",
        "\n",
        "# # Display the result\n",
        "# print(df[['trickortreat', 'trickortreat_clean']])\n",
        "\n",
        "# text_col_sample['trickortreat_clean'] = text_col_sample['trickortreat'].str.replace_multi(filters, ' ', regex=False)\n",
        "# text_col_sample['trickortreat_clean'] = text_col_sample['trickortreat_clean'].str.lower()\n",
        "text_col_sample['trickortreat_clean'].to_pandas()"
      ],
      "metadata": {
        "colab": {
          "base_uri": "https://localhost:8080/",
          "height": 272
        },
        "id": "BAih3wy2UQ9c",
        "outputId": "1c1a91a7-1e00-4b0f-def6-350785580741"
      },
      "execution_count": null,
      "outputs": [
        {
          "output_type": "execute_result",
          "data": {
            "text/plain": [
              "id\n",
              "0     century totalrecall\n",
              "1    payday consternation\n",
              "2         jackpot tragedy\n",
              "3        cape experiences\n",
              "4           shadow issues\n",
              "Name: trickortreat_clean, dtype: object"
            ],
            "text/html": [
              "<div>\n",
              "<style scoped>\n",
              "    .dataframe tbody tr th:only-of-type {\n",
              "        vertical-align: middle;\n",
              "    }\n",
              "\n",
              "    .dataframe tbody tr th {\n",
              "        vertical-align: top;\n",
              "    }\n",
              "\n",
              "    .dataframe thead th {\n",
              "        text-align: right;\n",
              "    }\n",
              "</style>\n",
              "<table border=\"1\" class=\"dataframe\">\n",
              "  <thead>\n",
              "    <tr style=\"text-align: right;\">\n",
              "      <th></th>\n",
              "      <th>trickortreat_clean</th>\n",
              "    </tr>\n",
              "    <tr>\n",
              "      <th>id</th>\n",
              "      <th></th>\n",
              "    </tr>\n",
              "  </thead>\n",
              "  <tbody>\n",
              "    <tr>\n",
              "      <th>0</th>\n",
              "      <td>century totalrecall</td>\n",
              "    </tr>\n",
              "    <tr>\n",
              "      <th>1</th>\n",
              "      <td>payday consternation</td>\n",
              "    </tr>\n",
              "    <tr>\n",
              "      <th>2</th>\n",
              "      <td>jackpot tragedy</td>\n",
              "    </tr>\n",
              "    <tr>\n",
              "      <th>3</th>\n",
              "      <td>cape experiences</td>\n",
              "    </tr>\n",
              "    <tr>\n",
              "      <th>4</th>\n",
              "      <td>shadow issues</td>\n",
              "    </tr>\n",
              "  </tbody>\n",
              "</table>\n",
              "</div><br><label><b>dtype:</b> object</label>"
            ]
          },
          "metadata": {},
          "execution_count": 19
        }
      ]
    },
    {
      "cell_type": "code",
      "source": [
        "import cudf\n",
        "import cuml\n",
        "from cuml.feature_extraction.text import HashingVectorizer, CountVectorizer, TfidfVectorizer\n",
        "\n",
        "# Sample data\n",
        "data = cudf.Series(['This is the first document.',\n",
        "                    'This document is the second document.',\n",
        "                    'And this is the third one.',\n",
        "                    'Is this the first document?'])\n",
        "\n",
        "# 1. Using HashingVectorizer\n",
        "hash_vectorizer = HashingVectorizer(n_features=2**10)\n",
        "hash_vectors = hash_vectorizer.fit_transform(data)\n",
        "\n",
        "print(\"HashingVectorizer output:\")\n",
        "print(hash_vectors.shape)\n",
        "print(hash_vectors.todense())\n",
        "\n",
        "# 2. Using CountVectorizer\n",
        "count_vectorizer = CountVectorizer()\n",
        "count_vectors = count_vectorizer.fit_transform(data)\n",
        "\n",
        "print(\"\\nCountVectorizer output:\")\n",
        "print(count_vectors.shape)\n",
        "print(count_vectors.todense())\n",
        "\n",
        "# 3. Using TfidfVectorizer\n",
        "tfidf_vectorizer = TfidfVectorizer()\n",
        "tfidf_vectors = tfidf_vectorizer.fit_transform(data)\n",
        "\n",
        "print(\"\\nTfidfVectorizer output:\")\n",
        "print(tfidf_vectors.shape)\n",
        "print(tfidf_vectors.todense())\n",
        "\n",
        "# 4. Character n-grams with TfidfVectorizer\n",
        "char_vectorizer = TfidfVectorizer(analyzer='char', ngram_range=(2, 3))\n",
        "char_vectors = char_vectorizer.fit_transform(data)\n",
        "\n",
        "print(\"\\nCharacter n-gram TfidfVectorizer output:\")\n",
        "print(char_vectors.shape)\n",
        "print(char_vectors.todense())"
      ],
      "metadata": {
        "colab": {
          "base_uri": "https://localhost:8080/"
        },
        "id": "qpm55gdVctNi",
        "outputId": "216e82c3-bbb1-4ca2-ef26-38c8c22008c6"
      },
      "execution_count": null,
      "outputs": [
        {
          "output_type": "stream",
          "name": "stdout",
          "text": [
            "HashingVectorizer output:\n",
            "(4, 1024)\n",
            "[[0. 0. 0. ... 0. 0. 0.]\n",
            " [0. 0. 0. ... 0. 0. 0.]\n",
            " [0. 0. 0. ... 0. 0. 0.]\n",
            " [0. 0. 0. ... 0. 0. 0.]]\n",
            "\n",
            "CountVectorizer output:\n",
            "(4, 9)\n",
            "[[0. 1. 1. 1. 0. 0. 1. 0. 1.]\n",
            " [0. 2. 0. 1. 0. 1. 1. 0. 1.]\n",
            " [1. 0. 0. 1. 1. 0. 1. 1. 1.]\n",
            " [0. 1. 1. 1. 0. 0. 1. 0. 1.]]\n",
            "\n",
            "TfidfVectorizer output:\n",
            "(4, 9)\n",
            "[[0.         0.46979138 0.5802858  0.38408524 0.         0.\n",
            "  0.38408524 0.         0.38408524]\n",
            " [0.         0.6876236  0.         0.28108868 0.         0.53864765\n",
            "  0.28108868 0.         0.28108868]\n",
            " [0.5118485  0.         0.         0.2671038  0.5118485  0.\n",
            "  0.2671038  0.5118485  0.2671038 ]\n",
            " [0.         0.46979138 0.5802858  0.38408524 0.         0.\n",
            "  0.38408524 0.         0.38408524]]\n",
            "\n",
            "Character n-gram TfidfVectorizer output:\n",
            "(4, 82)\n",
            "[[0.13160315 0.13160315 0.16255607 0.16255607 0.13160315 0.13160315\n",
            "  0.         0.         0.         0.         0.10759419 0.10759419\n",
            "  0.         0.         0.         0.         0.13160315 0.13160315\n",
            "  0.         0.         0.         0.         0.13160315 0.13160315\n",
            "  0.10759419 0.16255607 0.         0.         0.         0.\n",
            "  0.         0.13160315 0.13160315 0.16255607 0.16255607 0.10759419\n",
            "  0.10759419 0.10759419 0.         0.10759419 0.13160315 0.\n",
            "  0.16255607 0.21518838 0.21518838 0.13160315 0.13160315 0.\n",
            "  0.         0.         0.         0.13160315 0.         0.16255607\n",
            "  0.         0.13160315 0.13160315 0.         0.         0.\n",
            "  0.         0.         0.16255607 0.16255607 0.21518838 0.\n",
            "  0.16255607 0.10759419 0.         0.         0.16255607 0.16255607\n",
            "  0.13160315 0.16255607 0.         0.16255607 0.         0.21518838\n",
            "  0.10759419 0.10759419 0.13160315 0.13160315]\n",
            " [0.17968038 0.17968038 0.         0.         0.08984019 0.08984019\n",
            "  0.         0.         0.14075202 0.14075202 0.07345024 0.07345024\n",
            "  0.         0.         0.14075202 0.14075202 0.17968038 0.17968038\n",
            "  0.1109705  0.14075202 0.         0.         0.17968038 0.17968038\n",
            "  0.07345024 0.         0.14075202 0.         0.         0.14075202\n",
            "  0.14075202 0.17968038 0.17968038 0.         0.         0.07345024\n",
            "  0.07345024 0.07345024 0.         0.07345024 0.         0.\n",
            "  0.         0.14690048 0.14690048 0.17968038 0.17968038 0.1109705\n",
            "  0.1109705  0.         0.         0.17968038 0.14075202 0.1109705\n",
            "  0.         0.17968038 0.17968038 0.1109705  0.14075202 0.\n",
            "  0.         0.         0.         0.         0.14690048 0.14075202\n",
            "  0.         0.07345024 0.14075202 0.14075202 0.         0.\n",
            "  0.08984019 0.         0.14075202 0.1109705  0.         0.14690048\n",
            "  0.07345024 0.07345024 0.17968038 0.17968038]\n",
            " [0.         0.         0.         0.         0.10693533 0.10693533\n",
            "  0.16753486 0.16753486 0.         0.         0.2622799  0.2622799\n",
            "  0.16753486 0.16753486 0.         0.         0.         0.\n",
            "  0.2641728  0.         0.16753486 0.16753486 0.         0.\n",
            "  0.08742663 0.         0.         0.16753486 0.16753486 0.\n",
            "  0.         0.         0.         0.         0.         0.08742663\n",
            "  0.08742663 0.17485327 0.16753486 0.08742663 0.10693533 0.16753486\n",
            "  0.         0.17485327 0.17485327 0.         0.         0.1320864\n",
            "  0.1320864  0.16753486 0.16753486 0.         0.         0.\n",
            "  0.         0.         0.         0.1320864  0.         0.16753486\n",
            "  0.16753486 0.16753486 0.         0.         0.17485327 0.\n",
            "  0.1320864  0.08742663 0.         0.         0.         0.\n",
            "  0.         0.         0.         0.         0.         0.2622799\n",
            "  0.08742663 0.17485327 0.         0.        ]\n",
            " [0.12691174 0.12691174 0.15676124 0.15676124 0.         0.\n",
            "  0.         0.         0.         0.         0.20751733 0.20751733\n",
            "  0.         0.         0.         0.         0.12691174 0.12691174\n",
            "  0.         0.         0.         0.         0.12691174 0.12691174\n",
            "  0.10375866 0.15676124 0.         0.         0.         0.\n",
            "  0.         0.12691174 0.12691174 0.15676124 0.15676124 0.10375866\n",
            "  0.10375866 0.10375866 0.         0.10375866 0.12691174 0.\n",
            "  0.15676124 0.20751733 0.20751733 0.12691174 0.12691174 0.\n",
            "  0.         0.         0.         0.12691174 0.         0.\n",
            "  0.19883177 0.12691174 0.12691174 0.         0.         0.\n",
            "  0.         0.         0.15676124 0.15676124 0.20751733 0.\n",
            "  0.         0.20751733 0.         0.         0.15676124 0.15676124\n",
            "  0.12691174 0.15676124 0.         0.         0.19883177 0.20751733\n",
            "  0.10375866 0.10375866 0.12691174 0.12691174]]\n"
          ]
        }
      ]
    },
    {
      "cell_type": "code",
      "source": [],
      "metadata": {
        "colab": {
          "base_uri": "https://localhost:8080/",
          "height": 383
        },
        "id": "zmSJ640mdHGN",
        "outputId": "b3c2edde-8667-4c45-8f6e-ff21ae44cf5a"
      },
      "execution_count": null,
      "outputs": [
        {
          "output_type": "error",
          "ename": "ModuleNotFoundError",
          "evalue": "No module named 'nvstrings'",
          "traceback": [
            "\u001b[0;31m---------------------------------------------------------------------------\u001b[0m",
            "\u001b[0;31mModuleNotFoundError\u001b[0m                       Traceback (most recent call last)",
            "\u001b[0;32m<ipython-input-23-074a8450e514>\u001b[0m in \u001b[0;36m<cell line: 2>\u001b[0;34m()\u001b[0m\n\u001b[1;32m      1\u001b[0m \u001b[0;32mimport\u001b[0m \u001b[0mnltk\u001b[0m\u001b[0;34m\u001b[0m\u001b[0;34m\u001b[0m\u001b[0m\n\u001b[0;32m----> 2\u001b[0;31m \u001b[0;32mimport\u001b[0m \u001b[0mnvstrings\u001b[0m\u001b[0;34m\u001b[0m\u001b[0;34m\u001b[0m\u001b[0m\n\u001b[0m\u001b[1;32m      3\u001b[0m \u001b[0;32mimport\u001b[0m \u001b[0mnvtext\u001b[0m\u001b[0;34m\u001b[0m\u001b[0;34m\u001b[0m\u001b[0m\n\u001b[1;32m      4\u001b[0m \u001b[0mnltk\u001b[0m\u001b[0;34m.\u001b[0m\u001b[0mdownload\u001b[0m\u001b[0;34m(\u001b[0m\u001b[0;34m'stopwords'\u001b[0m\u001b[0;34m)\u001b[0m\u001b[0;34m\u001b[0m\u001b[0;34m\u001b[0m\u001b[0m\n\u001b[1;32m      5\u001b[0m \u001b[0mSTOPWORDS\u001b[0m \u001b[0;34m=\u001b[0m \u001b[0mnltk\u001b[0m\u001b[0;34m.\u001b[0m\u001b[0mcorpus\u001b[0m\u001b[0;34m.\u001b[0m\u001b[0mstopwords\u001b[0m\u001b[0;34m.\u001b[0m\u001b[0mwords\u001b[0m\u001b[0;34m(\u001b[0m\u001b[0;34m'english'\u001b[0m\u001b[0;34m)\u001b[0m\u001b[0;34m\u001b[0m\u001b[0;34m\u001b[0m\u001b[0m\n",
            "\u001b[0;31mModuleNotFoundError\u001b[0m: No module named 'nvstrings'",
            "",
            "\u001b[0;31m---------------------------------------------------------------------------\u001b[0;32m\nNOTE: If your import is failing due to a missing package, you can\nmanually install dependencies using either !pip or !apt.\n\nTo view examples of installing some common dependencies, click the\n\"Open Examples\" button below.\n\u001b[0;31m---------------------------------------------------------------------------\u001b[0m\n"
          ],
          "errorDetails": {
            "actions": [
              {
                "action": "open_url",
                "actionText": "Open Examples",
                "url": "/notebooks/snippets/importing_libraries.ipynb"
              }
            ]
          }
        }
      ]
    },
    {
      "cell_type": "code",
      "source": [],
      "metadata": {
        "colab": {
          "base_uri": "https://localhost:8080/"
        },
        "id": "_qX2qBRieyB7",
        "outputId": "afefc456-3e43-4869-efa4-592a2fa97ae3"
      },
      "execution_count": null,
      "outputs": [
        {
          "output_type": "stream",
          "name": "stdout",
          "text": [
            "Collecting nvstrings\n",
            "  Downloading nvstrings-0.6.1.post1.tar.gz (1.2 kB)\n",
            "  Preparing metadata (setup.py) ... \u001b[?25l\u001b[?25hdone\n",
            "Building wheels for collected packages: nvstrings\n",
            "  \u001b[1;31merror\u001b[0m: \u001b[1msubprocess-exited-with-error\u001b[0m\n",
            "  \n",
            "  \u001b[31m×\u001b[0m \u001b[32mpython setup.py bdist_wheel\u001b[0m did not run successfully.\n",
            "  \u001b[31m│\u001b[0m exit code: \u001b[1;36m1\u001b[0m\n",
            "  \u001b[31m╰─>\u001b[0m See above for output.\n",
            "  \n",
            "  \u001b[1;35mnote\u001b[0m: This error originates from a subprocess, and is likely not a problem with pip.\n",
            "  Building wheel for nvstrings (setup.py) ... \u001b[?25lerror\n",
            "\u001b[31m  ERROR: Failed building wheel for nvstrings\u001b[0m\u001b[31m\n",
            "\u001b[0m\u001b[?25h  Running setup.py clean for nvstrings\n",
            "Failed to build nvstrings\n",
            "\u001b[31mERROR: ERROR: Failed to build installable wheels for some pyproject.toml based projects (nvstrings)\u001b[0m\u001b[31m\n",
            "\u001b[0m"
          ]
        }
      ]
    },
    {
      "cell_type": "code",
      "source": [],
      "metadata": {
        "id": "OByZH3jOez0f"
      },
      "execution_count": null,
      "outputs": []
    }
  ]
}